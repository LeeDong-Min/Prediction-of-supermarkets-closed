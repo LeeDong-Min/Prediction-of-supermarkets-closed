{
 "cells": [
  {
   "cell_type": "code",
   "execution_count": 15,
   "metadata": {},
   "outputs": [],
   "source": [
    "import numpy as np\n",
    "import pandas as pd\n",
    "from sklearn.linear_model import LogisticRegression\n",
    "from sklearn.model_selection import cross_val_score,GridSearchCV"
   ]
  },
  {
   "cell_type": "code",
   "execution_count": 16,
   "metadata": {},
   "outputs": [],
   "source": [
    "emart = pd.read_excel(\"./prototype_model6.xlsx\",usecols=\"I,J\")"
   ]
  },
  {
   "cell_type": "code",
   "execution_count": 17,
   "metadata": {},
   "outputs": [
    {
     "data": {
      "text/html": [
       "<div>\n",
       "<style scoped>\n",
       "    .dataframe tbody tr th:only-of-type {\n",
       "        vertical-align: middle;\n",
       "    }\n",
       "\n",
       "    .dataframe tbody tr th {\n",
       "        vertical-align: top;\n",
       "    }\n",
       "\n",
       "    .dataframe thead th {\n",
       "        text-align: right;\n",
       "    }\n",
       "</style>\n",
       "<table border=\"1\" class=\"dataframe\">\n",
       "  <thead>\n",
       "    <tr style=\"text-align: right;\">\n",
       "      <th></th>\n",
       "      <th>점포형태</th>\n",
       "      <th>score</th>\n",
       "    </tr>\n",
       "  </thead>\n",
       "  <tbody>\n",
       "    <tr>\n",
       "      <th>0</th>\n",
       "      <td>0</td>\n",
       "      <td>5.05</td>\n",
       "    </tr>\n",
       "    <tr>\n",
       "      <th>1</th>\n",
       "      <td>0</td>\n",
       "      <td>4.78</td>\n",
       "    </tr>\n",
       "    <tr>\n",
       "      <th>2</th>\n",
       "      <td>0</td>\n",
       "      <td>4.73</td>\n",
       "    </tr>\n",
       "    <tr>\n",
       "      <th>3</th>\n",
       "      <td>1</td>\n",
       "      <td>4.73</td>\n",
       "    </tr>\n",
       "    <tr>\n",
       "      <th>4</th>\n",
       "      <td>0</td>\n",
       "      <td>4.71</td>\n",
       "    </tr>\n",
       "    <tr>\n",
       "      <th>...</th>\n",
       "      <td>...</td>\n",
       "      <td>...</td>\n",
       "    </tr>\n",
       "    <tr>\n",
       "      <th>142</th>\n",
       "      <td>0</td>\n",
       "      <td>1.97</td>\n",
       "    </tr>\n",
       "    <tr>\n",
       "      <th>143</th>\n",
       "      <td>0</td>\n",
       "      <td>1.97</td>\n",
       "    </tr>\n",
       "    <tr>\n",
       "      <th>144</th>\n",
       "      <td>0</td>\n",
       "      <td>1.87</td>\n",
       "    </tr>\n",
       "    <tr>\n",
       "      <th>145</th>\n",
       "      <td>0</td>\n",
       "      <td>1.67</td>\n",
       "    </tr>\n",
       "    <tr>\n",
       "      <th>146</th>\n",
       "      <td>0</td>\n",
       "      <td>1.67</td>\n",
       "    </tr>\n",
       "  </tbody>\n",
       "</table>\n",
       "<p>147 rows × 2 columns</p>\n",
       "</div>"
      ],
      "text/plain": [
       "     점포형태  score\n",
       "0       0   5.05\n",
       "1       0   4.78\n",
       "2       0   4.73\n",
       "3       1   4.73\n",
       "4       0   4.71\n",
       "..    ...    ...\n",
       "142     0   1.97\n",
       "143     0   1.97\n",
       "144     0   1.87\n",
       "145     0   1.67\n",
       "146     0   1.67\n",
       "\n",
       "[147 rows x 2 columns]"
      ]
     },
     "execution_count": 17,
     "metadata": {},
     "output_type": "execute_result"
    }
   ],
   "source": [
    "emart"
   ]
  },
  {
   "cell_type": "code",
   "execution_count": 18,
   "metadata": {},
   "outputs": [],
   "source": [
    "x = emart.iloc[:,-1]\n",
    "y = emart.iloc[:,0]"
   ]
  },
  {
   "cell_type": "code",
   "execution_count": 19,
   "metadata": {},
   "outputs": [
    {
     "data": {
      "text/plain": [
       "(147,)"
      ]
     },
     "execution_count": 19,
     "metadata": {},
     "output_type": "execute_result"
    }
   ],
   "source": [
    "x.shape"
   ]
  },
  {
   "cell_type": "code",
   "execution_count": 20,
   "metadata": {},
   "outputs": [
    {
     "data": {
      "text/plain": [
       "(147,)"
      ]
     },
     "execution_count": 20,
     "metadata": {},
     "output_type": "execute_result"
    }
   ],
   "source": [
    "y.shape"
   ]
  },
  {
   "cell_type": "code",
   "execution_count": 21,
   "metadata": {},
   "outputs": [],
   "source": [
    "X = np.array(x).reshape(-1,1)"
   ]
  },
  {
   "cell_type": "code",
   "execution_count": 22,
   "metadata": {},
   "outputs": [
    {
     "data": {
      "text/plain": [
       "(147, 1)"
      ]
     },
     "execution_count": 22,
     "metadata": {},
     "output_type": "execute_result"
    }
   ],
   "source": [
    "X.shape"
   ]
  },
  {
   "cell_type": "code",
   "execution_count": 23,
   "metadata": {},
   "outputs": [],
   "source": [
    "LR = LogisticRegression()"
   ]
  },
  {
   "cell_type": "code",
   "execution_count": 24,
   "metadata": {},
   "outputs": [
    {
     "data": {
      "text/plain": [
       "LogisticRegression(C=1.0, class_weight=None, dual=False, fit_intercept=True,\n",
       "                   intercept_scaling=1, l1_ratio=None, max_iter=100,\n",
       "                   multi_class='auto', n_jobs=None, penalty='l2',\n",
       "                   random_state=None, solver='lbfgs', tol=0.0001, verbose=0,\n",
       "                   warm_start=False)"
      ]
     },
     "execution_count": 24,
     "metadata": {},
     "output_type": "execute_result"
    }
   ],
   "source": [
    "LR.fit(X,y)"
   ]
  },
  {
   "cell_type": "code",
   "execution_count": 25,
   "metadata": {},
   "outputs": [
    {
     "data": {
      "text/plain": [
       "0.9319727891156463"
      ]
     },
     "execution_count": 25,
     "metadata": {},
     "output_type": "execute_result"
    }
   ],
   "source": [
    "LR.score(X,y)"
   ]
  },
  {
   "cell_type": "code",
   "execution_count": 26,
   "metadata": {
    "scrolled": true
   },
   "outputs": [
    {
     "data": {
      "text/plain": [
       "array([1, 0, 0, 0, 0, 0, 0, 0, 0, 0, 0, 0, 0, 0, 0, 0, 0, 0, 0, 0, 0, 0,\n",
       "       0, 0, 0, 0, 0, 0, 0, 0, 0, 0, 0, 0, 0, 0, 0, 0, 0, 0, 0, 0, 0, 0,\n",
       "       0, 0, 0, 0, 0, 0, 0, 0, 0, 0, 0, 0, 0, 0, 0, 0, 0, 0, 0, 0, 0, 0,\n",
       "       0, 0, 0, 0, 0, 0, 0, 0, 0, 0, 0, 0, 0, 0, 0, 0, 0, 0, 0, 0, 0, 0,\n",
       "       0, 0, 0, 0, 0, 0, 0, 0, 0, 0, 0, 0, 0, 0, 0, 0, 0, 0, 0, 0, 0, 0,\n",
       "       0, 0, 0, 0, 0, 0, 0, 0, 0, 0, 0, 0, 0, 0, 0, 0, 0, 0, 0, 0, 0, 0,\n",
       "       0, 0, 0, 0, 0, 0, 0, 0, 0, 0, 0, 0, 0, 0, 0])"
      ]
     },
     "execution_count": 26,
     "metadata": {},
     "output_type": "execute_result"
    }
   ],
   "source": [
    "LR.predict(X)"
   ]
  },
  {
   "cell_type": "code",
   "execution_count": 27,
   "metadata": {},
   "outputs": [
    {
     "data": {
      "text/plain": [
       "array([[0.49 , 0.51 ],\n",
       "       [0.608, 0.392],\n",
       "       [0.629, 0.371],\n",
       "       [0.629, 0.371],\n",
       "       [0.637, 0.363],\n",
       "       [0.641, 0.359],\n",
       "       [0.657, 0.343],\n",
       "       [0.732, 0.268],\n",
       "       [0.735, 0.265],\n",
       "       [0.81 , 0.19 ],\n",
       "       [0.831, 0.169],\n",
       "       [0.84 , 0.16 ],\n",
       "       [0.843, 0.157],\n",
       "       [0.847, 0.153],\n",
       "       [0.847, 0.153],\n",
       "       [0.854, 0.146],\n",
       "       [0.863, 0.137],\n",
       "       [0.863, 0.137],\n",
       "       [0.873, 0.127],\n",
       "       [0.877, 0.123],\n",
       "       [0.882, 0.118],\n",
       "       [0.896, 0.104],\n",
       "       [0.9  , 0.1  ],\n",
       "       [0.904, 0.096],\n",
       "       [0.904, 0.096],\n",
       "       [0.907, 0.093],\n",
       "       [0.915, 0.085],\n",
       "       [0.916, 0.084],\n",
       "       [0.921, 0.079],\n",
       "       [0.925, 0.075],\n",
       "       [0.927, 0.073],\n",
       "       [0.927, 0.073],\n",
       "       [0.931, 0.069],\n",
       "       [0.931, 0.069],\n",
       "       [0.938, 0.062],\n",
       "       [0.938, 0.062],\n",
       "       [0.938, 0.062],\n",
       "       [0.939, 0.061],\n",
       "       [0.945, 0.055],\n",
       "       [0.945, 0.055],\n",
       "       [0.945, 0.055],\n",
       "       [0.945, 0.055],\n",
       "       [0.948, 0.052],\n",
       "       [0.949, 0.051],\n",
       "       [0.951, 0.049],\n",
       "       [0.951, 0.049],\n",
       "       [0.951, 0.049],\n",
       "       [0.952, 0.048],\n",
       "       [0.952, 0.048],\n",
       "       [0.952, 0.048],\n",
       "       [0.954, 0.046],\n",
       "       [0.954, 0.046],\n",
       "       [0.954, 0.046],\n",
       "       [0.955, 0.045],\n",
       "       [0.956, 0.044],\n",
       "       [0.957, 0.043],\n",
       "       [0.96 , 0.04 ],\n",
       "       [0.961, 0.039],\n",
       "       [0.961, 0.039],\n",
       "       [0.962, 0.038],\n",
       "       [0.962, 0.038],\n",
       "       [0.963, 0.037],\n",
       "       [0.963, 0.037],\n",
       "       [0.965, 0.035],\n",
       "       [0.965, 0.035],\n",
       "       [0.965, 0.035],\n",
       "       [0.966, 0.034],\n",
       "       [0.966, 0.034],\n",
       "       [0.966, 0.034],\n",
       "       [0.967, 0.033],\n",
       "       [0.967, 0.033],\n",
       "       [0.967, 0.033],\n",
       "       [0.968, 0.032],\n",
       "       [0.968, 0.032],\n",
       "       [0.968, 0.032],\n",
       "       [0.969, 0.031],\n",
       "       [0.969, 0.031],\n",
       "       [0.972, 0.028],\n",
       "       [0.972, 0.028],\n",
       "       [0.972, 0.028],\n",
       "       [0.972, 0.028],\n",
       "       [0.974, 0.026],\n",
       "       [0.974, 0.026],\n",
       "       [0.975, 0.025],\n",
       "       [0.977, 0.023],\n",
       "       [0.978, 0.022],\n",
       "       [0.978, 0.022],\n",
       "       [0.978, 0.022],\n",
       "       [0.978, 0.022],\n",
       "       [0.978, 0.022],\n",
       "       [0.978, 0.022],\n",
       "       [0.979, 0.021],\n",
       "       [0.979, 0.021],\n",
       "       [0.98 , 0.02 ],\n",
       "       [0.98 , 0.02 ],\n",
       "       [0.98 , 0.02 ],\n",
       "       [0.98 , 0.02 ],\n",
       "       [0.981, 0.019],\n",
       "       [0.981, 0.019],\n",
       "       [0.981, 0.019],\n",
       "       [0.981, 0.019],\n",
       "       [0.982, 0.018],\n",
       "       [0.982, 0.018],\n",
       "       [0.982, 0.018],\n",
       "       [0.982, 0.018],\n",
       "       [0.982, 0.018],\n",
       "       [0.983, 0.017],\n",
       "       [0.984, 0.016],\n",
       "       [0.984, 0.016],\n",
       "       [0.985, 0.015],\n",
       "       [0.986, 0.014],\n",
       "       [0.986, 0.014],\n",
       "       [0.986, 0.014],\n",
       "       [0.986, 0.014],\n",
       "       [0.986, 0.014],\n",
       "       [0.987, 0.013],\n",
       "       [0.988, 0.012],\n",
       "       [0.988, 0.012],\n",
       "       [0.988, 0.012],\n",
       "       [0.988, 0.012],\n",
       "       [0.988, 0.012],\n",
       "       [0.989, 0.011],\n",
       "       [0.99 , 0.01 ],\n",
       "       [0.99 , 0.01 ],\n",
       "       [0.99 , 0.01 ],\n",
       "       [0.99 , 0.01 ],\n",
       "       [0.991, 0.009],\n",
       "       [0.991, 0.009],\n",
       "       [0.991, 0.009],\n",
       "       [0.991, 0.009],\n",
       "       [0.991, 0.009],\n",
       "       [0.992, 0.008],\n",
       "       [0.992, 0.008],\n",
       "       [0.992, 0.008],\n",
       "       [0.992, 0.008],\n",
       "       [0.993, 0.007],\n",
       "       [0.994, 0.006],\n",
       "       [0.994, 0.006],\n",
       "       [0.994, 0.006],\n",
       "       [0.994, 0.006],\n",
       "       [0.995, 0.005],\n",
       "       [0.996, 0.004],\n",
       "       [0.996, 0.004],\n",
       "       [0.996, 0.004],\n",
       "       [0.996, 0.004],\n",
       "       [0.997, 0.003],\n",
       "       [0.997, 0.003]])"
      ]
     },
     "execution_count": 27,
     "metadata": {},
     "output_type": "execute_result"
    }
   ],
   "source": [
    "np.round(LR.predict_proba(X),3)"
   ]
  },
  {
   "cell_type": "code",
   "execution_count": 28,
   "metadata": {},
   "outputs": [],
   "source": [
    "grid={\"C\" : np.logspace(0, 4, 10), \"penalty\":[\"l1\",\"l2\"]}"
   ]
  },
  {
   "cell_type": "code",
   "execution_count": 29,
   "metadata": {},
   "outputs": [],
   "source": [
    "logreg_cv=GridSearchCV(LR,grid,cv=10)"
   ]
  },
  {
   "cell_type": "code",
   "execution_count": 30,
   "metadata": {},
   "outputs": [
    {
     "data": {
      "text/plain": [
       "<bound method BaseEstimator.get_params of GridSearchCV(cv=10, error_score=nan,\n",
       "             estimator=LogisticRegression(C=1.0, class_weight=None, dual=False,\n",
       "                                          fit_intercept=True,\n",
       "                                          intercept_scaling=1, l1_ratio=None,\n",
       "                                          max_iter=100, multi_class='auto',\n",
       "                                          n_jobs=None, penalty='l2',\n",
       "                                          random_state=None, solver='lbfgs',\n",
       "                                          tol=0.0001, verbose=0,\n",
       "                                          warm_start=False),\n",
       "             iid='deprecated', n_jobs=None,\n",
       "             param_grid={'C': array([1.00000000e+00, 2.78255940e+00, 7.74263683e+00, 2.15443469e+01,\n",
       "       5.99484250e+01, 1.66810054e+02, 4.64158883e+02, 1.29154967e+03,\n",
       "       3.59381366e+03, 1.00000000e+04]),\n",
       "                         'penalty': ['l1', 'l2']},\n",
       "             pre_dispatch='2*n_jobs', refit=True, return_train_score=False,\n",
       "             scoring=None, verbose=0)>"
      ]
     },
     "execution_count": 30,
     "metadata": {},
     "output_type": "execute_result"
    }
   ],
   "source": [
    "logreg_cv.get_params"
   ]
  },
  {
   "cell_type": "code",
   "execution_count": 31,
   "metadata": {},
   "outputs": [
    {
     "name": "stderr",
     "output_type": "stream",
     "text": [
      "/Users/dongmin/opt/anaconda3/lib/python3.7/site-packages/sklearn/model_selection/_split.py:667: UserWarning: The least populated class in y has only 9 members, which is less than n_splits=10.\n",
      "  % (min_groups, self.n_splits)), UserWarning)\n",
      "/Users/dongmin/opt/anaconda3/lib/python3.7/site-packages/sklearn/model_selection/_validation.py:536: FitFailedWarning: Estimator fit failed. The score on this train-test partition for these parameters will be set to nan. Details: \n",
      "ValueError: Solver lbfgs supports only 'l2' or 'none' penalties, got l1 penalty.\n",
      "\n",
      "  FitFailedWarning)\n",
      "/Users/dongmin/opt/anaconda3/lib/python3.7/site-packages/sklearn/model_selection/_validation.py:536: FitFailedWarning: Estimator fit failed. The score on this train-test partition for these parameters will be set to nan. Details: \n",
      "ValueError: Solver lbfgs supports only 'l2' or 'none' penalties, got l1 penalty.\n",
      "\n",
      "  FitFailedWarning)\n",
      "/Users/dongmin/opt/anaconda3/lib/python3.7/site-packages/sklearn/model_selection/_validation.py:536: FitFailedWarning: Estimator fit failed. The score on this train-test partition for these parameters will be set to nan. Details: \n",
      "ValueError: Solver lbfgs supports only 'l2' or 'none' penalties, got l1 penalty.\n",
      "\n",
      "  FitFailedWarning)\n",
      "/Users/dongmin/opt/anaconda3/lib/python3.7/site-packages/sklearn/model_selection/_validation.py:536: FitFailedWarning: Estimator fit failed. The score on this train-test partition for these parameters will be set to nan. Details: \n",
      "ValueError: Solver lbfgs supports only 'l2' or 'none' penalties, got l1 penalty.\n",
      "\n",
      "  FitFailedWarning)\n",
      "/Users/dongmin/opt/anaconda3/lib/python3.7/site-packages/sklearn/model_selection/_validation.py:536: FitFailedWarning: Estimator fit failed. The score on this train-test partition for these parameters will be set to nan. Details: \n",
      "ValueError: Solver lbfgs supports only 'l2' or 'none' penalties, got l1 penalty.\n",
      "\n",
      "  FitFailedWarning)\n",
      "/Users/dongmin/opt/anaconda3/lib/python3.7/site-packages/sklearn/model_selection/_validation.py:536: FitFailedWarning: Estimator fit failed. The score on this train-test partition for these parameters will be set to nan. Details: \n",
      "ValueError: Solver lbfgs supports only 'l2' or 'none' penalties, got l1 penalty.\n",
      "\n",
      "  FitFailedWarning)\n",
      "/Users/dongmin/opt/anaconda3/lib/python3.7/site-packages/sklearn/model_selection/_validation.py:536: FitFailedWarning: Estimator fit failed. The score on this train-test partition for these parameters will be set to nan. Details: \n",
      "ValueError: Solver lbfgs supports only 'l2' or 'none' penalties, got l1 penalty.\n",
      "\n",
      "  FitFailedWarning)\n",
      "/Users/dongmin/opt/anaconda3/lib/python3.7/site-packages/sklearn/model_selection/_validation.py:536: FitFailedWarning: Estimator fit failed. The score on this train-test partition for these parameters will be set to nan. Details: \n",
      "ValueError: Solver lbfgs supports only 'l2' or 'none' penalties, got l1 penalty.\n",
      "\n",
      "  FitFailedWarning)\n",
      "/Users/dongmin/opt/anaconda3/lib/python3.7/site-packages/sklearn/model_selection/_validation.py:536: FitFailedWarning: Estimator fit failed. The score on this train-test partition for these parameters will be set to nan. Details: \n",
      "ValueError: Solver lbfgs supports only 'l2' or 'none' penalties, got l1 penalty.\n",
      "\n",
      "  FitFailedWarning)\n",
      "/Users/dongmin/opt/anaconda3/lib/python3.7/site-packages/sklearn/model_selection/_validation.py:536: FitFailedWarning: Estimator fit failed. The score on this train-test partition for these parameters will be set to nan. Details: \n",
      "ValueError: Solver lbfgs supports only 'l2' or 'none' penalties, got l1 penalty.\n",
      "\n",
      "  FitFailedWarning)\n"
     ]
    },
    {
     "data": {
      "text/plain": [
       "GridSearchCV(cv=10, error_score=nan,\n",
       "             estimator=LogisticRegression(C=1.0, class_weight=None, dual=False,\n",
       "                                          fit_intercept=True,\n",
       "                                          intercept_scaling=1, l1_ratio=None,\n",
       "                                          max_iter=100, multi_class='auto',\n",
       "                                          n_jobs=None, penalty='l2',\n",
       "                                          random_state=None, solver='lbfgs',\n",
       "                                          tol=0.0001, verbose=0,\n",
       "                                          warm_start=False),\n",
       "             iid='deprecated', n_jobs=None,\n",
       "             param_grid={'C': array([1.00000000e+00, 2.78255940e+00, 7.74263683e+00, 2.15443469e+01,\n",
       "       5.99484250e+01, 1.66810054e+02, 4.64158883e+02, 1.29154967e+03,\n",
       "       3.59381366e+03, 1.00000000e+04]),\n",
       "                         'penalty': ['l1', 'l2']},\n",
       "             pre_dispatch='2*n_jobs', refit=True, return_train_score=False,\n",
       "             scoring=None, verbose=0)"
      ]
     },
     "execution_count": 31,
     "metadata": {},
     "output_type": "execute_result"
    }
   ],
   "source": [
    "logreg_cv.fit(X,y)"
   ]
  },
  {
   "cell_type": "code",
   "execution_count": 32,
   "metadata": {},
   "outputs": [
    {
     "data": {
      "text/plain": [
       "array([1, 0, 0, 0, 0, 0, 0, 0, 0, 0, 0, 0, 0, 0, 0, 0, 0, 0, 0, 0, 0, 0,\n",
       "       0, 0, 0, 0, 0, 0, 0, 0, 0, 0, 0, 0, 0, 0, 0, 0, 0, 0, 0, 0, 0, 0,\n",
       "       0, 0, 0, 0, 0, 0, 0, 0, 0, 0, 0, 0, 0, 0, 0, 0, 0, 0, 0, 0, 0, 0,\n",
       "       0, 0, 0, 0, 0, 0, 0, 0, 0, 0, 0, 0, 0, 0, 0, 0, 0, 0, 0, 0, 0, 0,\n",
       "       0, 0, 0, 0, 0, 0, 0, 0, 0, 0, 0, 0, 0, 0, 0, 0, 0, 0, 0, 0, 0, 0,\n",
       "       0, 0, 0, 0, 0, 0, 0, 0, 0, 0, 0, 0, 0, 0, 0, 0, 0, 0, 0, 0, 0, 0,\n",
       "       0, 0, 0, 0, 0, 0, 0, 0, 0, 0, 0, 0, 0, 0, 0])"
      ]
     },
     "execution_count": 32,
     "metadata": {},
     "output_type": "execute_result"
    }
   ],
   "source": [
    "logreg_cv.predict(X)"
   ]
  },
  {
   "cell_type": "code",
   "execution_count": 33,
   "metadata": {},
   "outputs": [
    {
     "data": {
      "text/plain": [
       "array([[0.49 , 0.51 ],\n",
       "       [0.608, 0.392],\n",
       "       [0.629, 0.371],\n",
       "       [0.629, 0.371],\n",
       "       [0.637, 0.363],\n",
       "       [0.641, 0.359],\n",
       "       [0.657, 0.343],\n",
       "       [0.732, 0.268],\n",
       "       [0.735, 0.265],\n",
       "       [0.81 , 0.19 ],\n",
       "       [0.831, 0.169],\n",
       "       [0.84 , 0.16 ],\n",
       "       [0.843, 0.157],\n",
       "       [0.847, 0.153],\n",
       "       [0.847, 0.153],\n",
       "       [0.854, 0.146],\n",
       "       [0.863, 0.137],\n",
       "       [0.863, 0.137],\n",
       "       [0.873, 0.127],\n",
       "       [0.877, 0.123],\n",
       "       [0.882, 0.118],\n",
       "       [0.896, 0.104],\n",
       "       [0.9  , 0.1  ],\n",
       "       [0.904, 0.096],\n",
       "       [0.904, 0.096],\n",
       "       [0.907, 0.093],\n",
       "       [0.915, 0.085],\n",
       "       [0.916, 0.084],\n",
       "       [0.921, 0.079],\n",
       "       [0.925, 0.075],\n",
       "       [0.927, 0.073],\n",
       "       [0.927, 0.073],\n",
       "       [0.931, 0.069],\n",
       "       [0.931, 0.069],\n",
       "       [0.938, 0.062],\n",
       "       [0.938, 0.062],\n",
       "       [0.938, 0.062],\n",
       "       [0.939, 0.061],\n",
       "       [0.945, 0.055],\n",
       "       [0.945, 0.055],\n",
       "       [0.945, 0.055],\n",
       "       [0.945, 0.055],\n",
       "       [0.948, 0.052],\n",
       "       [0.949, 0.051],\n",
       "       [0.951, 0.049],\n",
       "       [0.951, 0.049],\n",
       "       [0.951, 0.049],\n",
       "       [0.952, 0.048],\n",
       "       [0.952, 0.048],\n",
       "       [0.952, 0.048],\n",
       "       [0.954, 0.046],\n",
       "       [0.954, 0.046],\n",
       "       [0.954, 0.046],\n",
       "       [0.955, 0.045],\n",
       "       [0.956, 0.044],\n",
       "       [0.957, 0.043],\n",
       "       [0.96 , 0.04 ],\n",
       "       [0.961, 0.039],\n",
       "       [0.961, 0.039],\n",
       "       [0.962, 0.038],\n",
       "       [0.962, 0.038],\n",
       "       [0.963, 0.037],\n",
       "       [0.963, 0.037],\n",
       "       [0.965, 0.035],\n",
       "       [0.965, 0.035],\n",
       "       [0.965, 0.035],\n",
       "       [0.966, 0.034],\n",
       "       [0.966, 0.034],\n",
       "       [0.966, 0.034],\n",
       "       [0.967, 0.033],\n",
       "       [0.967, 0.033],\n",
       "       [0.967, 0.033],\n",
       "       [0.968, 0.032],\n",
       "       [0.968, 0.032],\n",
       "       [0.968, 0.032],\n",
       "       [0.969, 0.031],\n",
       "       [0.969, 0.031],\n",
       "       [0.972, 0.028],\n",
       "       [0.972, 0.028],\n",
       "       [0.972, 0.028],\n",
       "       [0.972, 0.028],\n",
       "       [0.974, 0.026],\n",
       "       [0.974, 0.026],\n",
       "       [0.975, 0.025],\n",
       "       [0.977, 0.023],\n",
       "       [0.978, 0.022],\n",
       "       [0.978, 0.022],\n",
       "       [0.978, 0.022],\n",
       "       [0.978, 0.022],\n",
       "       [0.978, 0.022],\n",
       "       [0.978, 0.022],\n",
       "       [0.979, 0.021],\n",
       "       [0.979, 0.021],\n",
       "       [0.98 , 0.02 ],\n",
       "       [0.98 , 0.02 ],\n",
       "       [0.98 , 0.02 ],\n",
       "       [0.98 , 0.02 ],\n",
       "       [0.981, 0.019],\n",
       "       [0.981, 0.019],\n",
       "       [0.981, 0.019],\n",
       "       [0.981, 0.019],\n",
       "       [0.982, 0.018],\n",
       "       [0.982, 0.018],\n",
       "       [0.982, 0.018],\n",
       "       [0.982, 0.018],\n",
       "       [0.982, 0.018],\n",
       "       [0.983, 0.017],\n",
       "       [0.984, 0.016],\n",
       "       [0.984, 0.016],\n",
       "       [0.985, 0.015],\n",
       "       [0.986, 0.014],\n",
       "       [0.986, 0.014],\n",
       "       [0.986, 0.014],\n",
       "       [0.986, 0.014],\n",
       "       [0.986, 0.014],\n",
       "       [0.987, 0.013],\n",
       "       [0.988, 0.012],\n",
       "       [0.988, 0.012],\n",
       "       [0.988, 0.012],\n",
       "       [0.988, 0.012],\n",
       "       [0.988, 0.012],\n",
       "       [0.989, 0.011],\n",
       "       [0.99 , 0.01 ],\n",
       "       [0.99 , 0.01 ],\n",
       "       [0.99 , 0.01 ],\n",
       "       [0.99 , 0.01 ],\n",
       "       [0.991, 0.009],\n",
       "       [0.991, 0.009],\n",
       "       [0.991, 0.009],\n",
       "       [0.991, 0.009],\n",
       "       [0.991, 0.009],\n",
       "       [0.992, 0.008],\n",
       "       [0.992, 0.008],\n",
       "       [0.992, 0.008],\n",
       "       [0.992, 0.008],\n",
       "       [0.993, 0.007],\n",
       "       [0.994, 0.006],\n",
       "       [0.994, 0.006],\n",
       "       [0.994, 0.006],\n",
       "       [0.994, 0.006],\n",
       "       [0.995, 0.005],\n",
       "       [0.996, 0.004],\n",
       "       [0.996, 0.004],\n",
       "       [0.996, 0.004],\n",
       "       [0.996, 0.004],\n",
       "       [0.997, 0.003],\n",
       "       [0.997, 0.003]])"
      ]
     },
     "execution_count": 33,
     "metadata": {},
     "output_type": "execute_result"
    }
   ],
   "source": [
    "np.around(logreg_cv.predict_proba(X),3)"
   ]
  },
  {
   "cell_type": "code",
   "execution_count": null,
   "metadata": {},
   "outputs": [],
   "source": []
  }
 ],
 "metadata": {
  "kernelspec": {
   "display_name": "Python 3",
   "language": "python",
   "name": "python3"
  },
  "language_info": {
   "codemirror_mode": {
    "name": "ipython",
    "version": 3
   },
   "file_extension": ".py",
   "mimetype": "text/x-python",
   "name": "python",
   "nbconvert_exporter": "python",
   "pygments_lexer": "ipython3",
   "version": "3.7.6"
  }
 },
 "nbformat": 4,
 "nbformat_minor": 4
}
