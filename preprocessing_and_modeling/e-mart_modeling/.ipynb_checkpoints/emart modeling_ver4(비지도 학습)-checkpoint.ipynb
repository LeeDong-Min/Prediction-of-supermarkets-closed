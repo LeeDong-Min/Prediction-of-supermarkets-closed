{
 "cells": [
  {
   "cell_type": "code",
   "execution_count": 1,
   "metadata": {},
   "outputs": [],
   "source": [
    "import numpy as np\n",
    "import pandas as pd\n",
    "import seaborn as sns\n",
    "import matplotlib.pyplot as plt\n",
    "import matplotlib\n",
    "from matplotlib import font_manager, rc\n",
    "sns.set(style='darkgrid')\n",
    "\n",
    "\n",
    "rc('font', family='AppleGothic')\n",
    "matplotlib.rcParams['axes.unicode_minus'] = False\n",
    "%matplotlib inline\n",
    "\n",
    "import warnings\n",
    "warnings.filterwarnings(\"ignore\")"
   ]
  },
  {
   "cell_type": "code",
   "execution_count": 57,
   "metadata": {},
   "outputs": [
    {
     "data": {
      "text/html": [
       "<div>\n",
       "<style scoped>\n",
       "    .dataframe tbody tr th:only-of-type {\n",
       "        vertical-align: middle;\n",
       "    }\n",
       "\n",
       "    .dataframe tbody tr th {\n",
       "        vertical-align: top;\n",
       "    }\n",
       "\n",
       "    .dataframe thead th {\n",
       "        text-align: right;\n",
       "    }\n",
       "</style>\n",
       "<table border=\"1\" class=\"dataframe\">\n",
       "  <thead>\n",
       "    <tr style=\"text-align: right;\">\n",
       "      <th></th>\n",
       "      <th>3km내 이마트</th>\n",
       "      <th>3km내 경쟁 대형마트</th>\n",
       "      <th>부지 면적</th>\n",
       "      <th>주차 시설</th>\n",
       "      <th>대중 교통</th>\n",
       "      <th>2019실제영업이익(백만원)</th>\n",
       "      <th>65세이상</th>\n",
       "      <th>65세이상경제활동인구</th>\n",
       "      <th>총인구수</th>\n",
       "      <th>경제활동인구</th>\n",
       "      <th>1인당지방세부담액(천원)</th>\n",
       "      <th>소멸위기지역</th>\n",
       "      <th>1인가구구성원수</th>\n",
       "      <th>다인가구구성원수</th>\n",
       "    </tr>\n",
       "  </thead>\n",
       "  <tbody>\n",
       "    <tr>\n",
       "      <th>0</th>\n",
       "      <td>0</td>\n",
       "      <td>2</td>\n",
       "      <td>30395.90</td>\n",
       "      <td>835</td>\n",
       "      <td>0</td>\n",
       "      <td>363.861192</td>\n",
       "      <td>65173</td>\n",
       "      <td>18900.170</td>\n",
       "      <td>427436</td>\n",
       "      <td>250477.496</td>\n",
       "      <td>1098.98</td>\n",
       "      <td>0</td>\n",
       "      <td>35853</td>\n",
       "      <td>391583</td>\n",
       "    </tr>\n",
       "    <tr>\n",
       "      <th>1</th>\n",
       "      <td>0</td>\n",
       "      <td>3</td>\n",
       "      <td>38564.57</td>\n",
       "      <td>1200</td>\n",
       "      <td>0</td>\n",
       "      <td>461.646157</td>\n",
       "      <td>62003</td>\n",
       "      <td>17980.870</td>\n",
       "      <td>437566</td>\n",
       "      <td>256413.676</td>\n",
       "      <td>802.15</td>\n",
       "      <td>0</td>\n",
       "      <td>48073</td>\n",
       "      <td>389493</td>\n",
       "    </tr>\n",
       "    <tr>\n",
       "      <th>2</th>\n",
       "      <td>0</td>\n",
       "      <td>4</td>\n",
       "      <td>40101.26</td>\n",
       "      <td>850</td>\n",
       "      <td>1</td>\n",
       "      <td>480.041462</td>\n",
       "      <td>59313</td>\n",
       "      <td>18802.221</td>\n",
       "      <td>481449</td>\n",
       "      <td>306201.564</td>\n",
       "      <td>719.25</td>\n",
       "      <td>0</td>\n",
       "      <td>61414</td>\n",
       "      <td>420035</td>\n",
       "    </tr>\n",
       "    <tr>\n",
       "      <th>3</th>\n",
       "      <td>0</td>\n",
       "      <td>2</td>\n",
       "      <td>11044.82</td>\n",
       "      <td>1636</td>\n",
       "      <td>1</td>\n",
       "      <td>492.896969</td>\n",
       "      <td>36077</td>\n",
       "      <td>12843.412</td>\n",
       "      <td>258857</td>\n",
       "      <td>170845.620</td>\n",
       "      <td>1515.42</td>\n",
       "      <td>0</td>\n",
       "      <td>83657</td>\n",
       "      <td>571535</td>\n",
       "    </tr>\n",
       "    <tr>\n",
       "      <th>4</th>\n",
       "      <td>0</td>\n",
       "      <td>1</td>\n",
       "      <td>42095.66</td>\n",
       "      <td>1124</td>\n",
       "      <td>1</td>\n",
       "      <td>503.915891</td>\n",
       "      <td>78491</td>\n",
       "      <td>22762.390</td>\n",
       "      <td>566213</td>\n",
       "      <td>331800.818</td>\n",
       "      <td>787.78</td>\n",
       "      <td>0</td>\n",
       "      <td>59291</td>\n",
       "      <td>506922</td>\n",
       "    </tr>\n",
       "    <tr>\n",
       "      <th>...</th>\n",
       "      <td>...</td>\n",
       "      <td>...</td>\n",
       "      <td>...</td>\n",
       "      <td>...</td>\n",
       "      <td>...</td>\n",
       "      <td>...</td>\n",
       "      <td>...</td>\n",
       "      <td>...</td>\n",
       "      <td>...</td>\n",
       "      <td>...</td>\n",
       "      <td>...</td>\n",
       "      <td>...</td>\n",
       "      <td>...</td>\n",
       "      <td>...</td>\n",
       "    </tr>\n",
       "    <tr>\n",
       "      <th>142</th>\n",
       "      <td>1</td>\n",
       "      <td>2</td>\n",
       "      <td>42302.00</td>\n",
       "      <td>984</td>\n",
       "      <td>0</td>\n",
       "      <td>1053.171844</td>\n",
       "      <td>65173</td>\n",
       "      <td>18900.170</td>\n",
       "      <td>427436</td>\n",
       "      <td>250477.496</td>\n",
       "      <td>1098.98</td>\n",
       "      <td>0</td>\n",
       "      <td>35853</td>\n",
       "      <td>391583</td>\n",
       "    </tr>\n",
       "    <tr>\n",
       "      <th>143</th>\n",
       "      <td>1</td>\n",
       "      <td>8</td>\n",
       "      <td>6600.00</td>\n",
       "      <td>543</td>\n",
       "      <td>0</td>\n",
       "      <td>209.458233</td>\n",
       "      <td>71494</td>\n",
       "      <td>23092.562</td>\n",
       "      <td>503946</td>\n",
       "      <td>326557.008</td>\n",
       "      <td>149.36</td>\n",
       "      <td>0</td>\n",
       "      <td>48607</td>\n",
       "      <td>455339</td>\n",
       "    </tr>\n",
       "    <tr>\n",
       "      <th>144</th>\n",
       "      <td>2</td>\n",
       "      <td>2</td>\n",
       "      <td>31948.83</td>\n",
       "      <td>676</td>\n",
       "      <td>0</td>\n",
       "      <td>1054.340529</td>\n",
       "      <td>36704</td>\n",
       "      <td>9946.784</td>\n",
       "      <td>303555</td>\n",
       "      <td>192453.870</td>\n",
       "      <td>1198.70</td>\n",
       "      <td>0</td>\n",
       "      <td>84595</td>\n",
       "      <td>991584</td>\n",
       "    </tr>\n",
       "    <tr>\n",
       "      <th>145</th>\n",
       "      <td>1</td>\n",
       "      <td>2</td>\n",
       "      <td>71773.50</td>\n",
       "      <td>984</td>\n",
       "      <td>0</td>\n",
       "      <td>1869.793588</td>\n",
       "      <td>37716</td>\n",
       "      <td>10749.060</td>\n",
       "      <td>216083</td>\n",
       "      <td>124679.891</td>\n",
       "      <td>769.06</td>\n",
       "      <td>0</td>\n",
       "      <td>27709</td>\n",
       "      <td>188374</td>\n",
       "    </tr>\n",
       "    <tr>\n",
       "      <th>146</th>\n",
       "      <td>1</td>\n",
       "      <td>1</td>\n",
       "      <td>45416.28</td>\n",
       "      <td>543</td>\n",
       "      <td>0</td>\n",
       "      <td>2162.304280</td>\n",
       "      <td>41429</td>\n",
       "      <td>13257.280</td>\n",
       "      <td>299850</td>\n",
       "      <td>184107.900</td>\n",
       "      <td>942.95</td>\n",
       "      <td>0</td>\n",
       "      <td>38197</td>\n",
       "      <td>261653</td>\n",
       "    </tr>\n",
       "  </tbody>\n",
       "</table>\n",
       "<p>147 rows × 14 columns</p>\n",
       "</div>"
      ],
      "text/plain": [
       "     3km내 이마트  3km내 경쟁 대형마트     부지 면적  주차 시설  대중 교통  2019실제영업이익(백만원)  65세이상  \\\n",
       "0           0             2  30395.90    835      0       363.861192  65173   \n",
       "1           0             3  38564.57   1200      0       461.646157  62003   \n",
       "2           0             4  40101.26    850      1       480.041462  59313   \n",
       "3           0             2  11044.82   1636      1       492.896969  36077   \n",
       "4           0             1  42095.66   1124      1       503.915891  78491   \n",
       "..        ...           ...       ...    ...    ...              ...    ...   \n",
       "142         1             2  42302.00    984      0      1053.171844  65173   \n",
       "143         1             8   6600.00    543      0       209.458233  71494   \n",
       "144         2             2  31948.83    676      0      1054.340529  36704   \n",
       "145         1             2  71773.50    984      0      1869.793588  37716   \n",
       "146         1             1  45416.28    543      0      2162.304280  41429   \n",
       "\n",
       "     65세이상경제활동인구    총인구수      경제활동인구  1인당지방세부담액(천원)  소멸위기지역  1인가구구성원수  \\\n",
       "0      18900.170  427436  250477.496        1098.98       0     35853   \n",
       "1      17980.870  437566  256413.676         802.15       0     48073   \n",
       "2      18802.221  481449  306201.564         719.25       0     61414   \n",
       "3      12843.412  258857  170845.620        1515.42       0     83657   \n",
       "4      22762.390  566213  331800.818         787.78       0     59291   \n",
       "..           ...     ...         ...            ...     ...       ...   \n",
       "142    18900.170  427436  250477.496        1098.98       0     35853   \n",
       "143    23092.562  503946  326557.008         149.36       0     48607   \n",
       "144     9946.784  303555  192453.870        1198.70       0     84595   \n",
       "145    10749.060  216083  124679.891         769.06       0     27709   \n",
       "146    13257.280  299850  184107.900         942.95       0     38197   \n",
       "\n",
       "     다인가구구성원수  \n",
       "0      391583  \n",
       "1      389493  \n",
       "2      420035  \n",
       "3      571535  \n",
       "4      506922  \n",
       "..        ...  \n",
       "142    391583  \n",
       "143    455339  \n",
       "144    991584  \n",
       "145    188374  \n",
       "146    261653  \n",
       "\n",
       "[147 rows x 14 columns]"
      ]
     },
     "execution_count": 57,
     "metadata": {},
     "output_type": "execute_result"
    }
   ],
   "source": [
    "emart = pd.read_excel(\"../../데이터/emart(창고형없이.ver2).xlsx\",usecols=\"C:D,F,H:R\")\n",
    "emart"
   ]
  },
  {
   "cell_type": "code",
   "execution_count": 58,
   "metadata": {},
   "outputs": [
    {
     "name": "stdout",
     "output_type": "stream",
     "text": [
      "<class 'pandas.core.frame.DataFrame'>\n",
      "RangeIndex: 147 entries, 0 to 146\n",
      "Data columns (total 13 columns):\n",
      " #   Column           Non-Null Count  Dtype  \n",
      "---  ------           --------------  -----  \n",
      " 0   3km내 이마트         147 non-null    int64  \n",
      " 1   3km내 경쟁 대형마트     147 non-null    int64  \n",
      " 2   부지 면적            147 non-null    float64\n",
      " 3   주차 시설            147 non-null    int64  \n",
      " 4   대중 교통            147 non-null    int64  \n",
      " 5   2019실제영업이익(백만원)  147 non-null    float64\n",
      " 6   65세이상            147 non-null    int64  \n",
      " 7   65세이상경제활동인구      147 non-null    float64\n",
      " 8   총인구수             147 non-null    int64  \n",
      " 9   경제활동인구           147 non-null    float64\n",
      " 10  1인당지방세부담액(천원)    147 non-null    float64\n",
      " 11  소멸위기지역           147 non-null    int64  \n",
      " 12  1인가구구성원수         147 non-null    int64  \n",
      "dtypes: float64(5), int64(8)\n",
      "memory usage: 15.1 KB\n"
     ]
    }
   ],
   "source": [
    "from sklearn.linear_model import LogisticRegression\n",
    "\n",
    "from sklearn.preprocessing import scale, robust_scale\n",
    "\n",
    "LR = LogisticRegression()\n",
    "\n",
    "X = emart.iloc[:,:-1]\n",
    "y = emart.iloc[:,-1]\n",
    "\n",
    "X.info()\n",
    "\n",
    "X1 = scale(X)\n",
    "X2 = robust_scale(X)"
   ]
  },
  {
   "cell_type": "code",
   "execution_count": 59,
   "metadata": {},
   "outputs": [],
   "source": [
    "from sklearn.cluster import KMeans"
   ]
  },
  {
   "cell_type": "code",
   "execution_count": 60,
   "metadata": {},
   "outputs": [
    {
     "data": {
      "text/plain": [
       "KMeans(algorithm='auto', copy_x=True, init='k-means++', max_iter=300,\n",
       "       n_clusters=2, n_init=10, n_jobs=None, precompute_distances='auto',\n",
       "       random_state=42, tol=0.0001, verbose=0)"
      ]
     },
     "execution_count": 60,
     "metadata": {},
     "output_type": "execute_result"
    }
   ],
   "source": [
    "model = KMeans(2,random_state=42)\n",
    "model.fit(X)"
   ]
  },
  {
   "cell_type": "code",
   "execution_count": 61,
   "metadata": {},
   "outputs": [
    {
     "data": {
      "text/plain": [
       "array([1, 1, 1, 0, 1, 0, 0, 0, 1, 0, 0, 0, 0, 0, 1, 0, 0, 0, 1, 0, 0, 1,\n",
       "       1, 1, 0, 0, 0, 1, 0, 0, 0, 0, 0, 0, 1, 0, 1, 0, 1, 0, 1, 1, 1, 1,\n",
       "       1, 0, 1, 0, 0, 0, 0, 0, 1, 0, 0, 0, 1, 1, 0, 0, 0, 0, 0, 0, 0, 1,\n",
       "       1, 1, 1, 1, 1, 1, 1, 0, 1, 1, 0, 0, 1, 1, 0, 1, 0, 1, 0, 0, 0, 0,\n",
       "       1, 1, 0, 1, 0, 0, 0, 0, 0, 1, 1, 1, 1, 1, 0, 0, 1, 0, 1, 1, 0, 1,\n",
       "       0, 1, 0, 1, 1, 1, 1, 0, 0, 1, 1, 1, 0, 1, 0, 1, 0, 1, 1, 1, 0, 0,\n",
       "       0, 0, 1, 0, 1, 1, 0, 1, 0, 0, 1, 1, 0, 0, 0], dtype=int32)"
      ]
     },
     "execution_count": 61,
     "metadata": {},
     "output_type": "execute_result"
    }
   ],
   "source": [
    "labels = model.labels_\n",
    "labels"
   ]
  },
  {
   "cell_type": "code",
   "execution_count": 62,
   "metadata": {},
   "outputs": [
    {
     "data": {
      "text/plain": [
       "KMeans(algorithm='auto', copy_x=True, init='k-means++', max_iter=300,\n",
       "       n_clusters=2, n_init=10, n_jobs=None, precompute_distances='auto',\n",
       "       random_state=42, tol=0.0001, verbose=0)"
      ]
     },
     "execution_count": 62,
     "metadata": {},
     "output_type": "execute_result"
    }
   ],
   "source": [
    "model.fit(X1)"
   ]
  },
  {
   "cell_type": "code",
   "execution_count": 63,
   "metadata": {},
   "outputs": [
    {
     "data": {
      "text/plain": [
       "array([0, 0, 0, 1, 0, 0, 1, 1, 0, 1, 1, 1, 1, 1, 1, 1, 1, 1, 0, 0, 1, 0,\n",
       "       0, 0, 1, 1, 1, 0, 1, 1, 1, 1, 1, 1, 0, 0, 0, 1, 0, 0, 0, 0, 0, 0,\n",
       "       0, 1, 1, 1, 1, 1, 1, 1, 0, 1, 0, 1, 0, 0, 1, 1, 1, 1, 1, 1, 1, 0,\n",
       "       0, 0, 0, 0, 0, 0, 0, 1, 0, 0, 0, 1, 0, 0, 1, 0, 1, 0, 1, 0, 0, 1,\n",
       "       0, 1, 1, 1, 1, 1, 1, 1, 1, 0, 0, 0, 0, 0, 1, 1, 0, 0, 0, 0, 0, 0,\n",
       "       1, 0, 0, 0, 0, 0, 1, 1, 1, 0, 1, 0, 1, 0, 1, 0, 0, 0, 0, 0, 1, 0,\n",
       "       0, 0, 0, 1, 0, 0, 1, 0, 0, 1, 0, 0, 1, 1, 1], dtype=int32)"
      ]
     },
     "execution_count": 63,
     "metadata": {},
     "output_type": "execute_result"
    }
   ],
   "source": [
    "labels = model.labels_\n",
    "labels"
   ]
  },
  {
   "cell_type": "code",
   "execution_count": 64,
   "metadata": {},
   "outputs": [
    {
     "data": {
      "text/plain": [
       "array([0, 0, 0, 0, 0, 0, 0, 0, 0, 0, 0, 0, 0, 0, 0, 0, 0, 0, 0, 0, 0, 0,\n",
       "       0, 0, 0, 0, 0, 0, 0, 0, 0, 0, 0, 0, 0, 0, 0, 0, 0, 0, 0, 0, 0, 0,\n",
       "       0, 0, 0, 0, 0, 0, 0, 0, 0, 0, 0, 0, 0, 0, 0, 0, 0, 0, 0, 0, 0, 0,\n",
       "       0, 0, 0, 0, 0, 0, 0, 0, 0, 0, 0, 0, 0, 0, 0, 0, 0, 0, 0, 0, 0, 0,\n",
       "       0, 0, 0, 0, 0, 0, 0, 0, 0, 0, 0, 0, 0, 0, 0, 0, 0, 0, 0, 0, 0, 0,\n",
       "       0, 0, 0, 0, 0, 0, 0, 0, 0, 0, 0, 0, 0, 1, 0, 0, 0, 1, 1, 1, 1, 1,\n",
       "       1, 1, 1, 1, 1, 1, 0, 0, 0, 0, 0, 0, 0, 0, 0], dtype=int32)"
      ]
     },
     "execution_count": 64,
     "metadata": {},
     "output_type": "execute_result"
    }
   ],
   "source": [
    "model.fit(X2)\n",
    "labels = model.labels_\n",
    "labels"
   ]
  },
  {
   "cell_type": "code",
   "execution_count": null,
   "metadata": {},
   "outputs": [],
   "source": []
  }
 ],
 "metadata": {
  "kernelspec": {
   "display_name": "Python 3",
   "language": "python",
   "name": "python3"
  },
  "language_info": {
   "codemirror_mode": {
    "name": "ipython",
    "version": 3
   },
   "file_extension": ".py",
   "mimetype": "text/x-python",
   "name": "python",
   "nbconvert_exporter": "python",
   "pygments_lexer": "ipython3",
   "version": "3.7.6"
  }
 },
 "nbformat": 4,
 "nbformat_minor": 4
}
