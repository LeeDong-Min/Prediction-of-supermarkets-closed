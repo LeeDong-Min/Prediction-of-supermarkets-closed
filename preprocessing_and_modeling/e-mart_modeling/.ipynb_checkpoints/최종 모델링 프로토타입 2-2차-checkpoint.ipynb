{
 "cells": [
  {
   "cell_type": "code",
   "execution_count": 1,
   "metadata": {},
   "outputs": [],
   "source": [
    "import numpy as np\n",
    "import pandas as pd\n",
    "from sklearn.linear_model import LogisticRegression\n",
    "from sklearn.model_selection import cross_val_score,GridSearchCV"
   ]
  },
  {
   "cell_type": "code",
   "execution_count": 3,
   "metadata": {},
   "outputs": [],
   "source": [
    "emart = pd.read_excel(\"./prototype_model2.xlsx\",usecols=\"A,K,L\")"
   ]
  },
  {
   "cell_type": "code",
   "execution_count": 4,
   "metadata": {},
   "outputs": [
    {
     "data": {
      "text/html": [
       "<div>\n",
       "<style scoped>\n",
       "    .dataframe tbody tr th:only-of-type {\n",
       "        vertical-align: middle;\n",
       "    }\n",
       "\n",
       "    .dataframe tbody tr th {\n",
       "        vertical-align: top;\n",
       "    }\n",
       "\n",
       "    .dataframe thead th {\n",
       "        text-align: right;\n",
       "    }\n",
       "</style>\n",
       "<table border=\"1\" class=\"dataframe\">\n",
       "  <thead>\n",
       "    <tr style=\"text-align: right;\">\n",
       "      <th></th>\n",
       "      <th>지점명</th>\n",
       "      <th>점포형태</th>\n",
       "      <th>score</th>\n",
       "    </tr>\n",
       "  </thead>\n",
       "  <tbody>\n",
       "    <tr>\n",
       "      <th>0</th>\n",
       "      <td>일산점</td>\n",
       "      <td>0</td>\n",
       "      <td>3.886032</td>\n",
       "    </tr>\n",
       "    <tr>\n",
       "      <th>1</th>\n",
       "      <td>묵동점</td>\n",
       "      <td>0</td>\n",
       "      <td>3.772105</td>\n",
       "    </tr>\n",
       "    <tr>\n",
       "      <th>2</th>\n",
       "      <td>마포점</td>\n",
       "      <td>0</td>\n",
       "      <td>3.769929</td>\n",
       "    </tr>\n",
       "    <tr>\n",
       "      <th>3</th>\n",
       "      <td>동광주점</td>\n",
       "      <td>0</td>\n",
       "      <td>3.632204</td>\n",
       "    </tr>\n",
       "    <tr>\n",
       "      <th>4</th>\n",
       "      <td>남원점</td>\n",
       "      <td>0</td>\n",
       "      <td>3.613882</td>\n",
       "    </tr>\n",
       "    <tr>\n",
       "      <th>...</th>\n",
       "      <td>...</td>\n",
       "      <td>...</td>\n",
       "      <td>...</td>\n",
       "    </tr>\n",
       "    <tr>\n",
       "      <th>142</th>\n",
       "      <td>안산점(공단점)</td>\n",
       "      <td>1</td>\n",
       "      <td>3.780275</td>\n",
       "    </tr>\n",
       "    <tr>\n",
       "      <th>143</th>\n",
       "      <td>서부산점</td>\n",
       "      <td>1</td>\n",
       "      <td>3.778858</td>\n",
       "    </tr>\n",
       "    <tr>\n",
       "      <th>144</th>\n",
       "      <td>상무점</td>\n",
       "      <td>1</td>\n",
       "      <td>3.662998</td>\n",
       "    </tr>\n",
       "    <tr>\n",
       "      <th>145</th>\n",
       "      <td>덕이점</td>\n",
       "      <td>1</td>\n",
       "      <td>3.497485</td>\n",
       "    </tr>\n",
       "    <tr>\n",
       "      <th>146</th>\n",
       "      <td>공항점</td>\n",
       "      <td>1</td>\n",
       "      <td>3.471945</td>\n",
       "    </tr>\n",
       "  </tbody>\n",
       "</table>\n",
       "<p>147 rows × 3 columns</p>\n",
       "</div>"
      ],
      "text/plain": [
       "          지점명  점포형태     score\n",
       "0         일산점     0  3.886032\n",
       "1         묵동점     0  3.772105\n",
       "2         마포점     0  3.769929\n",
       "3        동광주점     0  3.632204\n",
       "4         남원점     0  3.613882\n",
       "..        ...   ...       ...\n",
       "142  안산점(공단점)     1  3.780275\n",
       "143      서부산점     1  3.778858\n",
       "144       상무점     1  3.662998\n",
       "145       덕이점     1  3.497485\n",
       "146       공항점     1  3.471945\n",
       "\n",
       "[147 rows x 3 columns]"
      ]
     },
     "execution_count": 4,
     "metadata": {},
     "output_type": "execute_result"
    }
   ],
   "source": [
    "emart"
   ]
  },
  {
   "cell_type": "code",
   "execution_count": 5,
   "metadata": {},
   "outputs": [],
   "source": [
    "x = emart.iloc[:,-1]\n",
    "y = emart.iloc[:,1]"
   ]
  },
  {
   "cell_type": "code",
   "execution_count": 6,
   "metadata": {},
   "outputs": [
    {
     "data": {
      "text/plain": [
       "(147,)"
      ]
     },
     "execution_count": 6,
     "metadata": {},
     "output_type": "execute_result"
    }
   ],
   "source": [
    "x.shape"
   ]
  },
  {
   "cell_type": "code",
   "execution_count": 7,
   "metadata": {},
   "outputs": [
    {
     "data": {
      "text/plain": [
       "(147,)"
      ]
     },
     "execution_count": 7,
     "metadata": {},
     "output_type": "execute_result"
    }
   ],
   "source": [
    "y.shape"
   ]
  },
  {
   "cell_type": "code",
   "execution_count": 8,
   "metadata": {},
   "outputs": [],
   "source": [
    "X = np.array(x).reshape(-1,1)"
   ]
  },
  {
   "cell_type": "code",
   "execution_count": 9,
   "metadata": {},
   "outputs": [
    {
     "data": {
      "text/plain": [
       "(147, 1)"
      ]
     },
     "execution_count": 9,
     "metadata": {},
     "output_type": "execute_result"
    }
   ],
   "source": [
    "X.shape"
   ]
  },
  {
   "cell_type": "code",
   "execution_count": 10,
   "metadata": {},
   "outputs": [],
   "source": [
    "LR = LogisticRegression()"
   ]
  },
  {
   "cell_type": "code",
   "execution_count": 11,
   "metadata": {},
   "outputs": [
    {
     "data": {
      "text/plain": [
       "LogisticRegression(C=1.0, class_weight=None, dual=False, fit_intercept=True,\n",
       "                   intercept_scaling=1, l1_ratio=None, max_iter=100,\n",
       "                   multi_class='auto', n_jobs=None, penalty='l2',\n",
       "                   random_state=None, solver='lbfgs', tol=0.0001, verbose=0,\n",
       "                   warm_start=False)"
      ]
     },
     "execution_count": 11,
     "metadata": {},
     "output_type": "execute_result"
    }
   ],
   "source": [
    "LR.fit(X,y)"
   ]
  },
  {
   "cell_type": "code",
   "execution_count": 12,
   "metadata": {},
   "outputs": [
    {
     "data": {
      "text/plain": [
       "0.9387755102040817"
      ]
     },
     "execution_count": 12,
     "metadata": {},
     "output_type": "execute_result"
    }
   ],
   "source": [
    "LR.score(X,y)"
   ]
  },
  {
   "cell_type": "code",
   "execution_count": 13,
   "metadata": {
    "scrolled": true
   },
   "outputs": [
    {
     "data": {
      "text/plain": [
       "array([0, 0, 0, 0, 0, 0, 0, 0, 0, 0, 0, 0, 0, 0, 0, 0, 0, 0, 0, 0, 0, 0,\n",
       "       0, 0, 0, 0, 0, 0, 0, 0, 0, 0, 0, 0, 0, 0, 0, 0, 0, 0, 0, 0, 0, 0,\n",
       "       0, 0, 0, 0, 0, 0, 0, 0, 0, 0, 0, 0, 0, 0, 0, 0, 0, 0, 0, 0, 0, 0,\n",
       "       0, 0, 0, 0, 0, 0, 0, 0, 0, 0, 0, 0, 0, 0, 0, 0, 0, 0, 0, 0, 0, 0,\n",
       "       0, 0, 0, 0, 0, 0, 0, 0, 0, 0, 0, 0, 0, 0, 0, 0, 0, 0, 0, 0, 0, 0,\n",
       "       0, 0, 0, 0, 0, 0, 0, 0, 0, 0, 0, 0, 0, 0, 0, 0, 0, 0, 0, 0, 0, 0,\n",
       "       0, 0, 0, 0, 0, 0, 0, 0, 0, 0, 0, 0, 0, 0, 0])"
      ]
     },
     "execution_count": 13,
     "metadata": {},
     "output_type": "execute_result"
    }
   ],
   "source": [
    "LR.predict(X)"
   ]
  },
  {
   "cell_type": "code",
   "execution_count": 15,
   "metadata": {},
   "outputs": [],
   "source": [
    "pred=LR.predict_proba(X)"
   ]
  },
  {
   "cell_type": "code",
   "execution_count": 16,
   "metadata": {},
   "outputs": [
    {
     "name": "stdout",
     "output_type": "stream",
     "text": [
      "일산점 ----> 생존확률:0.6493384444982815 / 폐점확률:0.35066155550171846 ---->폐점가능성\n",
      "묵동점 ----> 생존확률:0.7185102444498654 / 폐점확률:0.2814897555501345 ---->폐점가능성\n",
      "마포점 ----> 생존확률:0.7197484259653725 / 폐점확률:0.2802515740346275 ---->폐점가능성\n",
      "동광주점 ----> 생존확률:0.7910404435212964 / 폐점확률:0.2089595564787036 ---->폐점가능성\n",
      "남원점 ----> 생존확률:0.7994442449105639 / 폐점확률:0.20055575508943613 ---->폐점가능성\n",
      "장안점 ----> 생존확률:0.5202910725295417 / 폐점확률:0.47970892747045835 ---->폐점가능성\n",
      "학성점 ----> 생존확률:0.5275608602005126 / 폐점확률:0.4724391397994873 ---->폐점가능성\n",
      "시지점 ----> 생존확률:0.6596137512349896 / 폐점확률:0.3403862487650104 ---->폐점가능성\n",
      "부평점 ----> 생존확률:0.7112947383792392 / 폐점확률:0.2887052616207609 ---->폐점가능성\n",
      "안산점(공단점) ----> 생존확률:0.7138318092021549 / 폐점확률:0.286168190797845 ---->폐점가능성\n",
      "서부산점 ----> 생존확률:0.7146465670390117 / 폐점확률:0.28535343296098825 ---->폐점가능성\n",
      "상무점 ----> 생존확률:0.7763387860506231 / 폐점확률:0.22366121394937688 ---->폐점가능성\n"
     ]
    }
   ],
   "source": [
    "for i in range(len(emart)):\n",
    "    if pred[i][1] > 0.2:\n",
    "        print(emart[\"지점명\"][i],\"----> 생존확률:{} / 폐점확률:{} ---->{}\".format(pred[i][0],pred[i][1],\"폐점가능성\"))"
   ]
  },
  {
   "cell_type": "code",
   "execution_count": 17,
   "metadata": {},
   "outputs": [],
   "source": [
    "grid={\"C\" : np.logspace(0, 4, 10), \"penalty\":[\"l1\",\"l2\"]}"
   ]
  },
  {
   "cell_type": "code",
   "execution_count": 18,
   "metadata": {},
   "outputs": [],
   "source": [
    "logreg_cv=GridSearchCV(LR,grid,cv=10)"
   ]
  },
  {
   "cell_type": "code",
   "execution_count": 19,
   "metadata": {},
   "outputs": [
    {
     "data": {
      "text/plain": [
       "<bound method BaseEstimator.get_params of GridSearchCV(cv=10, error_score=nan,\n",
       "             estimator=LogisticRegression(C=1.0, class_weight=None, dual=False,\n",
       "                                          fit_intercept=True,\n",
       "                                          intercept_scaling=1, l1_ratio=None,\n",
       "                                          max_iter=100, multi_class='auto',\n",
       "                                          n_jobs=None, penalty='l2',\n",
       "                                          random_state=None, solver='lbfgs',\n",
       "                                          tol=0.0001, verbose=0,\n",
       "                                          warm_start=False),\n",
       "             iid='deprecated', n_jobs=None,\n",
       "             param_grid={'C': array([1.00000000e+00, 2.78255940e+00, 7.74263683e+00, 2.15443469e+01,\n",
       "       5.99484250e+01, 1.66810054e+02, 4.64158883e+02, 1.29154967e+03,\n",
       "       3.59381366e+03, 1.00000000e+04]),\n",
       "                         'penalty': ['l1', 'l2']},\n",
       "             pre_dispatch='2*n_jobs', refit=True, return_train_score=False,\n",
       "             scoring=None, verbose=0)>"
      ]
     },
     "execution_count": 19,
     "metadata": {},
     "output_type": "execute_result"
    }
   ],
   "source": [
    "logreg_cv.get_params"
   ]
  },
  {
   "cell_type": "code",
   "execution_count": 20,
   "metadata": {},
   "outputs": [
    {
     "name": "stderr",
     "output_type": "stream",
     "text": [
      "/Users/dongmin/opt/anaconda3/lib/python3.7/site-packages/sklearn/model_selection/_split.py:667: UserWarning: The least populated class in y has only 9 members, which is less than n_splits=10.\n",
      "  % (min_groups, self.n_splits)), UserWarning)\n",
      "/Users/dongmin/opt/anaconda3/lib/python3.7/site-packages/sklearn/model_selection/_validation.py:536: FitFailedWarning: Estimator fit failed. The score on this train-test partition for these parameters will be set to nan. Details: \n",
      "ValueError: Solver lbfgs supports only 'l2' or 'none' penalties, got l1 penalty.\n",
      "\n",
      "  FitFailedWarning)\n",
      "/Users/dongmin/opt/anaconda3/lib/python3.7/site-packages/sklearn/model_selection/_validation.py:536: FitFailedWarning: Estimator fit failed. The score on this train-test partition for these parameters will be set to nan. Details: \n",
      "ValueError: Solver lbfgs supports only 'l2' or 'none' penalties, got l1 penalty.\n",
      "\n",
      "  FitFailedWarning)\n",
      "/Users/dongmin/opt/anaconda3/lib/python3.7/site-packages/sklearn/model_selection/_validation.py:536: FitFailedWarning: Estimator fit failed. The score on this train-test partition for these parameters will be set to nan. Details: \n",
      "ValueError: Solver lbfgs supports only 'l2' or 'none' penalties, got l1 penalty.\n",
      "\n",
      "  FitFailedWarning)\n",
      "/Users/dongmin/opt/anaconda3/lib/python3.7/site-packages/sklearn/model_selection/_validation.py:536: FitFailedWarning: Estimator fit failed. The score on this train-test partition for these parameters will be set to nan. Details: \n",
      "ValueError: Solver lbfgs supports only 'l2' or 'none' penalties, got l1 penalty.\n",
      "\n",
      "  FitFailedWarning)\n",
      "/Users/dongmin/opt/anaconda3/lib/python3.7/site-packages/sklearn/model_selection/_validation.py:536: FitFailedWarning: Estimator fit failed. The score on this train-test partition for these parameters will be set to nan. Details: \n",
      "ValueError: Solver lbfgs supports only 'l2' or 'none' penalties, got l1 penalty.\n",
      "\n",
      "  FitFailedWarning)\n",
      "/Users/dongmin/opt/anaconda3/lib/python3.7/site-packages/sklearn/model_selection/_validation.py:536: FitFailedWarning: Estimator fit failed. The score on this train-test partition for these parameters will be set to nan. Details: \n",
      "ValueError: Solver lbfgs supports only 'l2' or 'none' penalties, got l1 penalty.\n",
      "\n",
      "  FitFailedWarning)\n",
      "/Users/dongmin/opt/anaconda3/lib/python3.7/site-packages/sklearn/model_selection/_validation.py:536: FitFailedWarning: Estimator fit failed. The score on this train-test partition for these parameters will be set to nan. Details: \n",
      "ValueError: Solver lbfgs supports only 'l2' or 'none' penalties, got l1 penalty.\n",
      "\n",
      "  FitFailedWarning)\n",
      "/Users/dongmin/opt/anaconda3/lib/python3.7/site-packages/sklearn/model_selection/_validation.py:536: FitFailedWarning: Estimator fit failed. The score on this train-test partition for these parameters will be set to nan. Details: \n",
      "ValueError: Solver lbfgs supports only 'l2' or 'none' penalties, got l1 penalty.\n",
      "\n",
      "  FitFailedWarning)\n",
      "/Users/dongmin/opt/anaconda3/lib/python3.7/site-packages/sklearn/model_selection/_validation.py:536: FitFailedWarning: Estimator fit failed. The score on this train-test partition for these parameters will be set to nan. Details: \n",
      "ValueError: Solver lbfgs supports only 'l2' or 'none' penalties, got l1 penalty.\n",
      "\n",
      "  FitFailedWarning)\n",
      "/Users/dongmin/opt/anaconda3/lib/python3.7/site-packages/sklearn/model_selection/_validation.py:536: FitFailedWarning: Estimator fit failed. The score on this train-test partition for these parameters will be set to nan. Details: \n",
      "ValueError: Solver lbfgs supports only 'l2' or 'none' penalties, got l1 penalty.\n",
      "\n",
      "  FitFailedWarning)\n"
     ]
    },
    {
     "data": {
      "text/plain": [
       "GridSearchCV(cv=10, error_score=nan,\n",
       "             estimator=LogisticRegression(C=1.0, class_weight=None, dual=False,\n",
       "                                          fit_intercept=True,\n",
       "                                          intercept_scaling=1, l1_ratio=None,\n",
       "                                          max_iter=100, multi_class='auto',\n",
       "                                          n_jobs=None, penalty='l2',\n",
       "                                          random_state=None, solver='lbfgs',\n",
       "                                          tol=0.0001, verbose=0,\n",
       "                                          warm_start=False),\n",
       "             iid='deprecated', n_jobs=None,\n",
       "             param_grid={'C': array([1.00000000e+00, 2.78255940e+00, 7.74263683e+00, 2.15443469e+01,\n",
       "       5.99484250e+01, 1.66810054e+02, 4.64158883e+02, 1.29154967e+03,\n",
       "       3.59381366e+03, 1.00000000e+04]),\n",
       "                         'penalty': ['l1', 'l2']},\n",
       "             pre_dispatch='2*n_jobs', refit=True, return_train_score=False,\n",
       "             scoring=None, verbose=0)"
      ]
     },
     "execution_count": 20,
     "metadata": {},
     "output_type": "execute_result"
    }
   ],
   "source": [
    "logreg_cv.fit(X,y)"
   ]
  },
  {
   "cell_type": "code",
   "execution_count": 21,
   "metadata": {},
   "outputs": [
    {
     "data": {
      "text/plain": [
       "array([0, 0, 0, 0, 0, 0, 0, 0, 0, 0, 0, 0, 0, 0, 0, 0, 0, 0, 0, 0, 0, 0,\n",
       "       0, 0, 0, 0, 0, 0, 0, 0, 0, 0, 0, 0, 0, 0, 0, 0, 0, 0, 0, 0, 0, 0,\n",
       "       0, 0, 0, 0, 0, 0, 0, 0, 0, 0, 0, 0, 0, 0, 0, 0, 0, 0, 0, 0, 0, 0,\n",
       "       0, 0, 0, 0, 0, 0, 0, 0, 0, 0, 0, 0, 0, 0, 0, 0, 0, 0, 0, 0, 0, 0,\n",
       "       0, 0, 0, 0, 0, 0, 0, 0, 0, 0, 0, 0, 0, 0, 0, 0, 0, 0, 0, 0, 0, 0,\n",
       "       0, 0, 0, 0, 0, 0, 0, 0, 0, 0, 0, 0, 0, 0, 0, 0, 0, 0, 0, 0, 0, 0,\n",
       "       0, 0, 0, 0, 0, 0, 0, 0, 0, 0, 0, 0, 0, 0, 0])"
      ]
     },
     "execution_count": 21,
     "metadata": {},
     "output_type": "execute_result"
    }
   ],
   "source": [
    "logreg_cv.predict(X)"
   ]
  },
  {
   "cell_type": "code",
   "execution_count": 22,
   "metadata": {},
   "outputs": [
    {
     "data": {
      "text/plain": [
       "array([[0.649, 0.351],\n",
       "       [0.719, 0.281],\n",
       "       [0.72 , 0.28 ],\n",
       "       [0.791, 0.209],\n",
       "       [0.799, 0.201],\n",
       "       [0.815, 0.185],\n",
       "       [0.827, 0.173],\n",
       "       [0.85 , 0.15 ],\n",
       "       [0.85 , 0.15 ],\n",
       "       [0.857, 0.143],\n",
       "       [0.857, 0.143],\n",
       "       [0.869, 0.131],\n",
       "       [0.882, 0.118],\n",
       "       [0.882, 0.118],\n",
       "       [0.882, 0.118],\n",
       "       [0.884, 0.116],\n",
       "       [0.885, 0.115],\n",
       "       [0.888, 0.112],\n",
       "       [0.892, 0.108],\n",
       "       [0.892, 0.108],\n",
       "       [0.893, 0.107],\n",
       "       [0.895, 0.105],\n",
       "       [0.905, 0.095],\n",
       "       [0.911, 0.089],\n",
       "       [0.912, 0.088],\n",
       "       [0.916, 0.084],\n",
       "       [0.916, 0.084],\n",
       "       [0.918, 0.082],\n",
       "       [0.918, 0.082],\n",
       "       [0.925, 0.075],\n",
       "       [0.927, 0.073],\n",
       "       [0.929, 0.071],\n",
       "       [0.933, 0.067],\n",
       "       [0.934, 0.066],\n",
       "       [0.934, 0.066],\n",
       "       [0.938, 0.062],\n",
       "       [0.941, 0.059],\n",
       "       [0.941, 0.059],\n",
       "       [0.944, 0.056],\n",
       "       [0.945, 0.055],\n",
       "       [0.945, 0.055],\n",
       "       [0.946, 0.054],\n",
       "       [0.95 , 0.05 ],\n",
       "       [0.952, 0.048],\n",
       "       [0.954, 0.046],\n",
       "       [0.956, 0.044],\n",
       "       [0.956, 0.044],\n",
       "       [0.958, 0.042],\n",
       "       [0.959, 0.041],\n",
       "       [0.963, 0.037],\n",
       "       [0.963, 0.037],\n",
       "       [0.963, 0.037],\n",
       "       [0.965, 0.035],\n",
       "       [0.968, 0.032],\n",
       "       [0.969, 0.031],\n",
       "       [0.97 , 0.03 ],\n",
       "       [0.971, 0.029],\n",
       "       [0.972, 0.028],\n",
       "       [0.972, 0.028],\n",
       "       [0.972, 0.028],\n",
       "       [0.972, 0.028],\n",
       "       [0.974, 0.026],\n",
       "       [0.974, 0.026],\n",
       "       [0.975, 0.025],\n",
       "       [0.977, 0.023],\n",
       "       [0.977, 0.023],\n",
       "       [0.978, 0.022],\n",
       "       [0.979, 0.021],\n",
       "       [0.98 , 0.02 ],\n",
       "       [0.98 , 0.02 ],\n",
       "       [0.981, 0.019],\n",
       "       [0.981, 0.019],\n",
       "       [0.981, 0.019],\n",
       "       [0.983, 0.017],\n",
       "       [0.984, 0.016],\n",
       "       [0.985, 0.015],\n",
       "       [0.986, 0.014],\n",
       "       [0.987, 0.013],\n",
       "       [0.987, 0.013],\n",
       "       [0.987, 0.013],\n",
       "       [0.988, 0.012],\n",
       "       [0.988, 0.012],\n",
       "       [0.989, 0.011],\n",
       "       [0.99 , 0.01 ],\n",
       "       [0.99 , 0.01 ],\n",
       "       [0.99 , 0.01 ],\n",
       "       [0.99 , 0.01 ],\n",
       "       [0.99 , 0.01 ],\n",
       "       [0.991, 0.009],\n",
       "       [0.991, 0.009],\n",
       "       [0.991, 0.009],\n",
       "       [0.991, 0.009],\n",
       "       [0.991, 0.009],\n",
       "       [0.991, 0.009],\n",
       "       [0.991, 0.009],\n",
       "       [0.992, 0.008],\n",
       "       [0.992, 0.008],\n",
       "       [0.992, 0.008],\n",
       "       [0.992, 0.008],\n",
       "       [0.993, 0.007],\n",
       "       [0.993, 0.007],\n",
       "       [0.994, 0.006],\n",
       "       [0.994, 0.006],\n",
       "       [0.994, 0.006],\n",
       "       [0.994, 0.006],\n",
       "       [0.994, 0.006],\n",
       "       [0.995, 0.005],\n",
       "       [0.995, 0.005],\n",
       "       [0.995, 0.005],\n",
       "       [0.995, 0.005],\n",
       "       [0.996, 0.004],\n",
       "       [0.996, 0.004],\n",
       "       [0.996, 0.004],\n",
       "       [0.996, 0.004],\n",
       "       [0.996, 0.004],\n",
       "       [0.997, 0.003],\n",
       "       [0.997, 0.003],\n",
       "       [0.997, 0.003],\n",
       "       [0.997, 0.003],\n",
       "       [0.997, 0.003],\n",
       "       [0.997, 0.003],\n",
       "       [0.997, 0.003],\n",
       "       [0.997, 0.003],\n",
       "       [0.997, 0.003],\n",
       "       [0.997, 0.003],\n",
       "       [0.997, 0.003],\n",
       "       [0.998, 0.002],\n",
       "       [0.998, 0.002],\n",
       "       [0.998, 0.002],\n",
       "       [0.998, 0.002],\n",
       "       [0.998, 0.002],\n",
       "       [0.998, 0.002],\n",
       "       [0.998, 0.002],\n",
       "       [0.998, 0.002],\n",
       "       [0.998, 0.002],\n",
       "       [0.999, 0.001],\n",
       "       [0.999, 0.001],\n",
       "       [0.999, 0.001],\n",
       "       [0.52 , 0.48 ],\n",
       "       [0.528, 0.472],\n",
       "       [0.66 , 0.34 ],\n",
       "       [0.711, 0.289],\n",
       "       [0.714, 0.286],\n",
       "       [0.715, 0.285],\n",
       "       [0.776, 0.224],\n",
       "       [0.847, 0.153],\n",
       "       [0.856, 0.144]])"
      ]
     },
     "execution_count": 22,
     "metadata": {},
     "output_type": "execute_result"
    }
   ],
   "source": [
    "np.around(logreg_cv.predict_proba(X),3)"
   ]
  },
  {
   "cell_type": "code",
   "execution_count": null,
   "metadata": {},
   "outputs": [],
   "source": []
  },
  {
   "cell_type": "code",
   "execution_count": null,
   "metadata": {},
   "outputs": [],
   "source": []
  }
 ],
 "metadata": {
  "kernelspec": {
   "display_name": "Python 3",
   "language": "python",
   "name": "python3"
  },
  "language_info": {
   "codemirror_mode": {
    "name": "ipython",
    "version": 3
   },
   "file_extension": ".py",
   "mimetype": "text/x-python",
   "name": "python",
   "nbconvert_exporter": "python",
   "pygments_lexer": "ipython3",
   "version": "3.7.6"
  }
 },
 "nbformat": 4,
 "nbformat_minor": 4
}
