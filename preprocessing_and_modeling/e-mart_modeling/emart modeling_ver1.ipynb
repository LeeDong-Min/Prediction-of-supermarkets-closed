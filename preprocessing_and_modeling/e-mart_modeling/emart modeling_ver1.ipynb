{
 "cells": [
  {
   "cell_type": "code",
   "execution_count": 11,
   "metadata": {},
   "outputs": [],
   "source": [
    "import numpy as np\n",
    "import pandas as pd\n",
    "import seaborn as sns\n",
    "import matplotlib.pyplot as plt\n",
    "import matplotlib\n",
    "from matplotlib import font_manager, rc\n",
    "sns.set(style='darkgrid')\n",
    "\n",
    "\n",
    "rc('font', family='AppleGothic')\n",
    "matplotlib.rcParams['axes.unicode_minus'] = False\n",
    "%matplotlib inline\n",
    "\n",
    "import warnings\n",
    "warnings.filterwarnings(\"ignore\")"
   ]
  },
  {
   "cell_type": "code",
   "execution_count": 12,
   "metadata": {},
   "outputs": [
    {
     "data": {
      "text/html": [
       "<div>\n",
       "<style scoped>\n",
       "    .dataframe tbody tr th:only-of-type {\n",
       "        vertical-align: middle;\n",
       "    }\n",
       "\n",
       "    .dataframe tbody tr th {\n",
       "        vertical-align: top;\n",
       "    }\n",
       "\n",
       "    .dataframe thead th {\n",
       "        text-align: right;\n",
       "    }\n",
       "</style>\n",
       "<table border=\"1\" class=\"dataframe\">\n",
       "  <thead>\n",
       "    <tr style=\"text-align: right;\">\n",
       "      <th></th>\n",
       "      <th>지점명</th>\n",
       "      <th>주소</th>\n",
       "      <th>3km내 이마트</th>\n",
       "      <th>3km내 경쟁 대형마트</th>\n",
       "      <th>3km내 창고형 마트</th>\n",
       "      <th>부지 면적</th>\n",
       "      <th>부지 공시지가</th>\n",
       "      <th>주차 시설</th>\n",
       "      <th>대중 교통</th>\n",
       "      <th>2020실제영업이익(백만원)</th>\n",
       "      <th>...</th>\n",
       "      <th>총인구수</th>\n",
       "      <th>경제활동인구</th>\n",
       "      <th>1인당지방세부담액(천원)</th>\n",
       "      <th>소멸위기지역</th>\n",
       "      <th>1인가구구성원수</th>\n",
       "      <th>다인가구구성원수</th>\n",
       "      <th>인스타</th>\n",
       "      <th>블로그(1년)</th>\n",
       "      <th>카페(1년)</th>\n",
       "      <th>점포형태</th>\n",
       "    </tr>\n",
       "  </thead>\n",
       "  <tbody>\n",
       "    <tr>\n",
       "      <th>0</th>\n",
       "      <td>청계천점</td>\n",
       "      <td>대한민국 서울특별시 중구 황학동 청계천로 400</td>\n",
       "      <td>1</td>\n",
       "      <td>3</td>\n",
       "      <td>0</td>\n",
       "      <td>96410.82</td>\n",
       "      <td>861912730800</td>\n",
       "      <td>1000</td>\n",
       "      <td>0</td>\n",
       "      <td>2864.374860</td>\n",
       "      <td>...</td>\n",
       "      <td>126120</td>\n",
       "      <td>79077.240</td>\n",
       "      <td>10088.84</td>\n",
       "      <td>0</td>\n",
       "      <td>20803</td>\n",
       "      <td>105317</td>\n",
       "      <td>1288</td>\n",
       "      <td>441</td>\n",
       "      <td>323</td>\n",
       "      <td>0</td>\n",
       "    </tr>\n",
       "    <tr>\n",
       "      <th>1</th>\n",
       "      <td>용산점</td>\n",
       "      <td>대한민국 서울특별시 용산구 한강로3가 한강대로23길 55</td>\n",
       "      <td>1</td>\n",
       "      <td>0</td>\n",
       "      <td>0</td>\n",
       "      <td>42405.64</td>\n",
       "      <td>641173276800</td>\n",
       "      <td>2100</td>\n",
       "      <td>2</td>\n",
       "      <td>1259.875698</td>\n",
       "      <td>...</td>\n",
       "      <td>229393</td>\n",
       "      <td>143829.411</td>\n",
       "      <td>3261.61</td>\n",
       "      <td>0</td>\n",
       "      <td>34240</td>\n",
       "      <td>195153</td>\n",
       "      <td>696</td>\n",
       "      <td>264</td>\n",
       "      <td>85</td>\n",
       "      <td>0</td>\n",
       "    </tr>\n",
       "    <tr>\n",
       "      <th>2</th>\n",
       "      <td>창동점</td>\n",
       "      <td>대한민국 서울특별시 도봉구 창동 노해로65길 4</td>\n",
       "      <td>1</td>\n",
       "      <td>4</td>\n",
       "      <td>0</td>\n",
       "      <td>12776.00</td>\n",
       "      <td>90530736000</td>\n",
       "      <td>159</td>\n",
       "      <td>1</td>\n",
       "      <td>2518.917716</td>\n",
       "      <td>...</td>\n",
       "      <td>330149</td>\n",
       "      <td>207003.423</td>\n",
       "      <td>539.75</td>\n",
       "      <td>0</td>\n",
       "      <td>30848</td>\n",
       "      <td>299301</td>\n",
       "      <td>162</td>\n",
       "      <td>314</td>\n",
       "      <td>217</td>\n",
       "      <td>0</td>\n",
       "    </tr>\n",
       "    <tr>\n",
       "      <th>3</th>\n",
       "      <td>미아점</td>\n",
       "      <td>대한민국 서울특별시 성북구 길음동 도봉로 17</td>\n",
       "      <td>2</td>\n",
       "      <td>2</td>\n",
       "      <td>0</td>\n",
       "      <td>20690.71</td>\n",
       "      <td>316154048800</td>\n",
       "      <td>195</td>\n",
       "      <td>1</td>\n",
       "      <td>1735.196529</td>\n",
       "      <td>...</td>\n",
       "      <td>442148</td>\n",
       "      <td>277226.796</td>\n",
       "      <td>779.74</td>\n",
       "      <td>0</td>\n",
       "      <td>55136</td>\n",
       "      <td>387012</td>\n",
       "      <td>561</td>\n",
       "      <td>924</td>\n",
       "      <td>162</td>\n",
       "      <td>0</td>\n",
       "    </tr>\n",
       "    <tr>\n",
       "      <th>4</th>\n",
       "      <td>하월곡점</td>\n",
       "      <td>대한민국 서울특별시 성북구 하월곡동 230</td>\n",
       "      <td>2</td>\n",
       "      <td>2</td>\n",
       "      <td>0</td>\n",
       "      <td>75041.00</td>\n",
       "      <td>479511990000</td>\n",
       "      <td>760</td>\n",
       "      <td>0</td>\n",
       "      <td>2229.475424</td>\n",
       "      <td>...</td>\n",
       "      <td>442148</td>\n",
       "      <td>277226.796</td>\n",
       "      <td>779.74</td>\n",
       "      <td>0</td>\n",
       "      <td>55136</td>\n",
       "      <td>387012</td>\n",
       "      <td>1162</td>\n",
       "      <td>207</td>\n",
       "      <td>166</td>\n",
       "      <td>0</td>\n",
       "    </tr>\n",
       "    <tr>\n",
       "      <th>...</th>\n",
       "      <td>...</td>\n",
       "      <td>...</td>\n",
       "      <td>...</td>\n",
       "      <td>...</td>\n",
       "      <td>...</td>\n",
       "      <td>...</td>\n",
       "      <td>...</td>\n",
       "      <td>...</td>\n",
       "      <td>...</td>\n",
       "      <td>...</td>\n",
       "      <td>...</td>\n",
       "      <td>...</td>\n",
       "      <td>...</td>\n",
       "      <td>...</td>\n",
       "      <td>...</td>\n",
       "      <td>...</td>\n",
       "      <td>...</td>\n",
       "      <td>...</td>\n",
       "      <td>...</td>\n",
       "      <td>...</td>\n",
       "      <td>...</td>\n",
       "    </tr>\n",
       "    <tr>\n",
       "      <th>160</th>\n",
       "      <td>시지점</td>\n",
       "      <td>대구광역시 수성구 고산로 101 (신매동 566-3)</td>\n",
       "      <td>1</td>\n",
       "      <td>2</td>\n",
       "      <td>0</td>\n",
       "      <td>42302.00</td>\n",
       "      <td>162058962000</td>\n",
       "      <td>984</td>\n",
       "      <td>0</td>\n",
       "      <td>1053.171844</td>\n",
       "      <td>...</td>\n",
       "      <td>427436</td>\n",
       "      <td>250477.496</td>\n",
       "      <td>1098.98</td>\n",
       "      <td>0</td>\n",
       "      <td>35853</td>\n",
       "      <td>391583</td>\n",
       "      <td>35</td>\n",
       "      <td>12</td>\n",
       "      <td>1</td>\n",
       "      <td>2</td>\n",
       "    </tr>\n",
       "    <tr>\n",
       "      <th>161</th>\n",
       "      <td>부평점</td>\n",
       "      <td>인천광역시 부평구 주부토로 241 (갈산동 171)</td>\n",
       "      <td>1</td>\n",
       "      <td>8</td>\n",
       "      <td>0</td>\n",
       "      <td>6600.00</td>\n",
       "      <td>12566400000</td>\n",
       "      <td>543</td>\n",
       "      <td>0</td>\n",
       "      <td>209.458233</td>\n",
       "      <td>...</td>\n",
       "      <td>503946</td>\n",
       "      <td>326557.008</td>\n",
       "      <td>149.36</td>\n",
       "      <td>0</td>\n",
       "      <td>48607</td>\n",
       "      <td>455339</td>\n",
       "      <td>151</td>\n",
       "      <td>136</td>\n",
       "      <td>10</td>\n",
       "      <td>2</td>\n",
       "    </tr>\n",
       "    <tr>\n",
       "      <th>162</th>\n",
       "      <td>덕이점</td>\n",
       "      <td>고양시 일산서구 경의로 798 (덕이동 205)</td>\n",
       "      <td>2</td>\n",
       "      <td>2</td>\n",
       "      <td>1</td>\n",
       "      <td>31948.83</td>\n",
       "      <td>73642053150</td>\n",
       "      <td>676</td>\n",
       "      <td>0</td>\n",
       "      <td>1054.340529</td>\n",
       "      <td>...</td>\n",
       "      <td>303555</td>\n",
       "      <td>192453.870</td>\n",
       "      <td>1198.70</td>\n",
       "      <td>0</td>\n",
       "      <td>84595</td>\n",
       "      <td>991584</td>\n",
       "      <td>1268</td>\n",
       "      <td>122</td>\n",
       "      <td>12</td>\n",
       "      <td>2</td>\n",
       "    </tr>\n",
       "    <tr>\n",
       "      <th>163</th>\n",
       "      <td>서부산점</td>\n",
       "      <td>부산광역시 사상구 낙동대로 910 (감전동)</td>\n",
       "      <td>1</td>\n",
       "      <td>2</td>\n",
       "      <td>0</td>\n",
       "      <td>71773.50</td>\n",
       "      <td>133929351000</td>\n",
       "      <td>984</td>\n",
       "      <td>0</td>\n",
       "      <td>1869.793588</td>\n",
       "      <td>...</td>\n",
       "      <td>216083</td>\n",
       "      <td>124679.891</td>\n",
       "      <td>769.06</td>\n",
       "      <td>0</td>\n",
       "      <td>27709</td>\n",
       "      <td>188374</td>\n",
       "      <td>43</td>\n",
       "      <td>53</td>\n",
       "      <td>32</td>\n",
       "      <td>2</td>\n",
       "    </tr>\n",
       "    <tr>\n",
       "      <th>164</th>\n",
       "      <td>상무점</td>\n",
       "      <td>광주광역시 서구 운천로 263 (치평동)</td>\n",
       "      <td>1</td>\n",
       "      <td>1</td>\n",
       "      <td>0</td>\n",
       "      <td>45416.28</td>\n",
       "      <td>143242947120</td>\n",
       "      <td>543</td>\n",
       "      <td>0</td>\n",
       "      <td>2162.304280</td>\n",
       "      <td>...</td>\n",
       "      <td>299850</td>\n",
       "      <td>184107.900</td>\n",
       "      <td>942.95</td>\n",
       "      <td>0</td>\n",
       "      <td>38197</td>\n",
       "      <td>261653</td>\n",
       "      <td>833</td>\n",
       "      <td>65</td>\n",
       "      <td>55</td>\n",
       "      <td>2</td>\n",
       "    </tr>\n",
       "  </tbody>\n",
       "</table>\n",
       "<p>165 rows × 22 columns</p>\n",
       "</div>"
      ],
      "text/plain": [
       "      지점명                               주소  3km내 이마트  3km내 경쟁 대형마트  \\\n",
       "0    청계천점       대한민국 서울특별시 중구 황학동 청계천로 400         1             3   \n",
       "1     용산점  대한민국 서울특별시 용산구 한강로3가 한강대로23길 55         1             0   \n",
       "2     창동점       대한민국 서울특별시 도봉구 창동 노해로65길 4         1             4   \n",
       "3     미아점        대한민국 서울특별시 성북구 길음동 도봉로 17         2             2   \n",
       "4    하월곡점          대한민국 서울특별시 성북구 하월곡동 230         2             2   \n",
       "..    ...                              ...       ...           ...   \n",
       "160   시지점    대구광역시 수성구 고산로 101 (신매동 566-3)         1             2   \n",
       "161   부평점     인천광역시 부평구 주부토로 241 (갈산동 171)         1             8   \n",
       "162   덕이점       고양시 일산서구 경의로 798 (덕이동 205)         2             2   \n",
       "163  서부산점         부산광역시 사상구 낙동대로 910 (감전동)         1             2   \n",
       "164   상무점           광주광역시 서구 운천로 263 (치평동)         1             1   \n",
       "\n",
       "     3km내 창고형 마트     부지 면적       부지 공시지가  주차 시설  대중 교통  2020실제영업이익(백만원)  ...  \\\n",
       "0              0  96410.82  861912730800   1000      0      2864.374860  ...   \n",
       "1              0  42405.64  641173276800   2100      2      1259.875698  ...   \n",
       "2              0  12776.00   90530736000    159      1      2518.917716  ...   \n",
       "3              0  20690.71  316154048800    195      1      1735.196529  ...   \n",
       "4              0  75041.00  479511990000    760      0      2229.475424  ...   \n",
       "..           ...       ...           ...    ...    ...              ...  ...   \n",
       "160            0  42302.00  162058962000    984      0      1053.171844  ...   \n",
       "161            0   6600.00   12566400000    543      0       209.458233  ...   \n",
       "162            1  31948.83   73642053150    676      0      1054.340529  ...   \n",
       "163            0  71773.50  133929351000    984      0      1869.793588  ...   \n",
       "164            0  45416.28  143242947120    543      0      2162.304280  ...   \n",
       "\n",
       "       총인구수      경제활동인구  1인당지방세부담액(천원)  소멸위기지역  1인가구구성원수  다인가구구성원수   인스타  \\\n",
       "0    126120   79077.240       10088.84       0     20803    105317  1288   \n",
       "1    229393  143829.411        3261.61       0     34240    195153   696   \n",
       "2    330149  207003.423         539.75       0     30848    299301   162   \n",
       "3    442148  277226.796         779.74       0     55136    387012   561   \n",
       "4    442148  277226.796         779.74       0     55136    387012  1162   \n",
       "..      ...         ...            ...     ...       ...       ...   ...   \n",
       "160  427436  250477.496        1098.98       0     35853    391583    35   \n",
       "161  503946  326557.008         149.36       0     48607    455339   151   \n",
       "162  303555  192453.870        1198.70       0     84595    991584  1268   \n",
       "163  216083  124679.891         769.06       0     27709    188374    43   \n",
       "164  299850  184107.900         942.95       0     38197    261653   833   \n",
       "\n",
       "     블로그(1년)  카페(1년)  점포형태  \n",
       "0        441     323     0  \n",
       "1        264      85     0  \n",
       "2        314     217     0  \n",
       "3        924     162     0  \n",
       "4        207     166     0  \n",
       "..       ...     ...   ...  \n",
       "160       12       1     2  \n",
       "161      136      10     2  \n",
       "162      122      12     2  \n",
       "163       53      32     2  \n",
       "164       65      55     2  \n",
       "\n",
       "[165 rows x 22 columns]"
      ]
     },
     "execution_count": 12,
     "metadata": {},
     "output_type": "execute_result"
    }
   ],
   "source": [
    "emart = pd.read_excel(\"../../데이터/emart(최종.ver1).xlsx\")\n",
    "emart"
   ]
  },
  {
   "cell_type": "code",
   "execution_count": 13,
   "metadata": {},
   "outputs": [],
   "source": [
    "from sklearn.model_selection import train_test_split"
   ]
  },
  {
   "cell_type": "code",
   "execution_count": 14,
   "metadata": {},
   "outputs": [],
   "source": [
    "X=emart.iloc[:,2:-1]"
   ]
  },
  {
   "cell_type": "code",
   "execution_count": 15,
   "metadata": {},
   "outputs": [
    {
     "data": {
      "text/html": [
       "<div>\n",
       "<style scoped>\n",
       "    .dataframe tbody tr th:only-of-type {\n",
       "        vertical-align: middle;\n",
       "    }\n",
       "\n",
       "    .dataframe tbody tr th {\n",
       "        vertical-align: top;\n",
       "    }\n",
       "\n",
       "    .dataframe thead th {\n",
       "        text-align: right;\n",
       "    }\n",
       "</style>\n",
       "<table border=\"1\" class=\"dataframe\">\n",
       "  <thead>\n",
       "    <tr style=\"text-align: right;\">\n",
       "      <th></th>\n",
       "      <th>3km내 이마트</th>\n",
       "      <th>3km내 경쟁 대형마트</th>\n",
       "      <th>3km내 창고형 마트</th>\n",
       "      <th>부지 면적</th>\n",
       "      <th>부지 공시지가</th>\n",
       "      <th>주차 시설</th>\n",
       "      <th>대중 교통</th>\n",
       "      <th>2020실제영업이익(백만원)</th>\n",
       "      <th>65세이상</th>\n",
       "      <th>65세이상경제활동인구</th>\n",
       "      <th>총인구수</th>\n",
       "      <th>경제활동인구</th>\n",
       "      <th>1인당지방세부담액(천원)</th>\n",
       "      <th>소멸위기지역</th>\n",
       "      <th>1인가구구성원수</th>\n",
       "      <th>다인가구구성원수</th>\n",
       "      <th>인스타</th>\n",
       "      <th>블로그(1년)</th>\n",
       "      <th>카페(1년)</th>\n",
       "    </tr>\n",
       "  </thead>\n",
       "  <tbody>\n",
       "    <tr>\n",
       "      <th>0</th>\n",
       "      <td>1</td>\n",
       "      <td>3</td>\n",
       "      <td>0</td>\n",
       "      <td>96410.82</td>\n",
       "      <td>861912730800</td>\n",
       "      <td>1000</td>\n",
       "      <td>0</td>\n",
       "      <td>2864.374860</td>\n",
       "      <td>23620</td>\n",
       "      <td>6873.420</td>\n",
       "      <td>126120</td>\n",
       "      <td>79077.240</td>\n",
       "      <td>10088.84</td>\n",
       "      <td>0</td>\n",
       "      <td>20803</td>\n",
       "      <td>105317</td>\n",
       "      <td>1288</td>\n",
       "      <td>441</td>\n",
       "      <td>323</td>\n",
       "    </tr>\n",
       "    <tr>\n",
       "      <th>1</th>\n",
       "      <td>1</td>\n",
       "      <td>0</td>\n",
       "      <td>0</td>\n",
       "      <td>42405.64</td>\n",
       "      <td>641173276800</td>\n",
       "      <td>2100</td>\n",
       "      <td>2</td>\n",
       "      <td>1259.875698</td>\n",
       "      <td>39123</td>\n",
       "      <td>11384.793</td>\n",
       "      <td>229393</td>\n",
       "      <td>143829.411</td>\n",
       "      <td>3261.61</td>\n",
       "      <td>0</td>\n",
       "      <td>34240</td>\n",
       "      <td>195153</td>\n",
       "      <td>696</td>\n",
       "      <td>264</td>\n",
       "      <td>85</td>\n",
       "    </tr>\n",
       "    <tr>\n",
       "      <th>2</th>\n",
       "      <td>1</td>\n",
       "      <td>4</td>\n",
       "      <td>0</td>\n",
       "      <td>12776.00</td>\n",
       "      <td>90530736000</td>\n",
       "      <td>159</td>\n",
       "      <td>1</td>\n",
       "      <td>2518.917716</td>\n",
       "      <td>60530</td>\n",
       "      <td>17614.230</td>\n",
       "      <td>330149</td>\n",
       "      <td>207003.423</td>\n",
       "      <td>539.75</td>\n",
       "      <td>0</td>\n",
       "      <td>30848</td>\n",
       "      <td>299301</td>\n",
       "      <td>162</td>\n",
       "      <td>314</td>\n",
       "      <td>217</td>\n",
       "    </tr>\n",
       "    <tr>\n",
       "      <th>3</th>\n",
       "      <td>2</td>\n",
       "      <td>2</td>\n",
       "      <td>0</td>\n",
       "      <td>20690.71</td>\n",
       "      <td>316154048800</td>\n",
       "      <td>195</td>\n",
       "      <td>1</td>\n",
       "      <td>1735.196529</td>\n",
       "      <td>72510</td>\n",
       "      <td>21100.410</td>\n",
       "      <td>442148</td>\n",
       "      <td>277226.796</td>\n",
       "      <td>779.74</td>\n",
       "      <td>0</td>\n",
       "      <td>55136</td>\n",
       "      <td>387012</td>\n",
       "      <td>561</td>\n",
       "      <td>924</td>\n",
       "      <td>162</td>\n",
       "    </tr>\n",
       "    <tr>\n",
       "      <th>4</th>\n",
       "      <td>2</td>\n",
       "      <td>2</td>\n",
       "      <td>0</td>\n",
       "      <td>75041.00</td>\n",
       "      <td>479511990000</td>\n",
       "      <td>760</td>\n",
       "      <td>0</td>\n",
       "      <td>2229.475424</td>\n",
       "      <td>72510</td>\n",
       "      <td>21100.410</td>\n",
       "      <td>442148</td>\n",
       "      <td>277226.796</td>\n",
       "      <td>779.74</td>\n",
       "      <td>0</td>\n",
       "      <td>55136</td>\n",
       "      <td>387012</td>\n",
       "      <td>1162</td>\n",
       "      <td>207</td>\n",
       "      <td>166</td>\n",
       "    </tr>\n",
       "    <tr>\n",
       "      <th>...</th>\n",
       "      <td>...</td>\n",
       "      <td>...</td>\n",
       "      <td>...</td>\n",
       "      <td>...</td>\n",
       "      <td>...</td>\n",
       "      <td>...</td>\n",
       "      <td>...</td>\n",
       "      <td>...</td>\n",
       "      <td>...</td>\n",
       "      <td>...</td>\n",
       "      <td>...</td>\n",
       "      <td>...</td>\n",
       "      <td>...</td>\n",
       "      <td>...</td>\n",
       "      <td>...</td>\n",
       "      <td>...</td>\n",
       "      <td>...</td>\n",
       "      <td>...</td>\n",
       "      <td>...</td>\n",
       "    </tr>\n",
       "    <tr>\n",
       "      <th>160</th>\n",
       "      <td>1</td>\n",
       "      <td>2</td>\n",
       "      <td>0</td>\n",
       "      <td>42302.00</td>\n",
       "      <td>162058962000</td>\n",
       "      <td>984</td>\n",
       "      <td>0</td>\n",
       "      <td>1053.171844</td>\n",
       "      <td>65173</td>\n",
       "      <td>18900.170</td>\n",
       "      <td>427436</td>\n",
       "      <td>250477.496</td>\n",
       "      <td>1098.98</td>\n",
       "      <td>0</td>\n",
       "      <td>35853</td>\n",
       "      <td>391583</td>\n",
       "      <td>35</td>\n",
       "      <td>12</td>\n",
       "      <td>1</td>\n",
       "    </tr>\n",
       "    <tr>\n",
       "      <th>161</th>\n",
       "      <td>1</td>\n",
       "      <td>8</td>\n",
       "      <td>0</td>\n",
       "      <td>6600.00</td>\n",
       "      <td>12566400000</td>\n",
       "      <td>543</td>\n",
       "      <td>0</td>\n",
       "      <td>209.458233</td>\n",
       "      <td>71494</td>\n",
       "      <td>23092.562</td>\n",
       "      <td>503946</td>\n",
       "      <td>326557.008</td>\n",
       "      <td>149.36</td>\n",
       "      <td>0</td>\n",
       "      <td>48607</td>\n",
       "      <td>455339</td>\n",
       "      <td>151</td>\n",
       "      <td>136</td>\n",
       "      <td>10</td>\n",
       "    </tr>\n",
       "    <tr>\n",
       "      <th>162</th>\n",
       "      <td>2</td>\n",
       "      <td>2</td>\n",
       "      <td>1</td>\n",
       "      <td>31948.83</td>\n",
       "      <td>73642053150</td>\n",
       "      <td>676</td>\n",
       "      <td>0</td>\n",
       "      <td>1054.340529</td>\n",
       "      <td>36704</td>\n",
       "      <td>9946.784</td>\n",
       "      <td>303555</td>\n",
       "      <td>192453.870</td>\n",
       "      <td>1198.70</td>\n",
       "      <td>0</td>\n",
       "      <td>84595</td>\n",
       "      <td>991584</td>\n",
       "      <td>1268</td>\n",
       "      <td>122</td>\n",
       "      <td>12</td>\n",
       "    </tr>\n",
       "    <tr>\n",
       "      <th>163</th>\n",
       "      <td>1</td>\n",
       "      <td>2</td>\n",
       "      <td>0</td>\n",
       "      <td>71773.50</td>\n",
       "      <td>133929351000</td>\n",
       "      <td>984</td>\n",
       "      <td>0</td>\n",
       "      <td>1869.793588</td>\n",
       "      <td>37716</td>\n",
       "      <td>10749.060</td>\n",
       "      <td>216083</td>\n",
       "      <td>124679.891</td>\n",
       "      <td>769.06</td>\n",
       "      <td>0</td>\n",
       "      <td>27709</td>\n",
       "      <td>188374</td>\n",
       "      <td>43</td>\n",
       "      <td>53</td>\n",
       "      <td>32</td>\n",
       "    </tr>\n",
       "    <tr>\n",
       "      <th>164</th>\n",
       "      <td>1</td>\n",
       "      <td>1</td>\n",
       "      <td>0</td>\n",
       "      <td>45416.28</td>\n",
       "      <td>143242947120</td>\n",
       "      <td>543</td>\n",
       "      <td>0</td>\n",
       "      <td>2162.304280</td>\n",
       "      <td>41429</td>\n",
       "      <td>13257.280</td>\n",
       "      <td>299850</td>\n",
       "      <td>184107.900</td>\n",
       "      <td>942.95</td>\n",
       "      <td>0</td>\n",
       "      <td>38197</td>\n",
       "      <td>261653</td>\n",
       "      <td>833</td>\n",
       "      <td>65</td>\n",
       "      <td>55</td>\n",
       "    </tr>\n",
       "  </tbody>\n",
       "</table>\n",
       "<p>165 rows × 19 columns</p>\n",
       "</div>"
      ],
      "text/plain": [
       "     3km내 이마트  3km내 경쟁 대형마트  3km내 창고형 마트     부지 면적       부지 공시지가  주차 시설  \\\n",
       "0           1             3            0  96410.82  861912730800   1000   \n",
       "1           1             0            0  42405.64  641173276800   2100   \n",
       "2           1             4            0  12776.00   90530736000    159   \n",
       "3           2             2            0  20690.71  316154048800    195   \n",
       "4           2             2            0  75041.00  479511990000    760   \n",
       "..        ...           ...          ...       ...           ...    ...   \n",
       "160         1             2            0  42302.00  162058962000    984   \n",
       "161         1             8            0   6600.00   12566400000    543   \n",
       "162         2             2            1  31948.83   73642053150    676   \n",
       "163         1             2            0  71773.50  133929351000    984   \n",
       "164         1             1            0  45416.28  143242947120    543   \n",
       "\n",
       "     대중 교통  2020실제영업이익(백만원)  65세이상  65세이상경제활동인구    총인구수      경제활동인구  \\\n",
       "0        0      2864.374860  23620     6873.420  126120   79077.240   \n",
       "1        2      1259.875698  39123    11384.793  229393  143829.411   \n",
       "2        1      2518.917716  60530    17614.230  330149  207003.423   \n",
       "3        1      1735.196529  72510    21100.410  442148  277226.796   \n",
       "4        0      2229.475424  72510    21100.410  442148  277226.796   \n",
       "..     ...              ...    ...          ...     ...         ...   \n",
       "160      0      1053.171844  65173    18900.170  427436  250477.496   \n",
       "161      0       209.458233  71494    23092.562  503946  326557.008   \n",
       "162      0      1054.340529  36704     9946.784  303555  192453.870   \n",
       "163      0      1869.793588  37716    10749.060  216083  124679.891   \n",
       "164      0      2162.304280  41429    13257.280  299850  184107.900   \n",
       "\n",
       "     1인당지방세부담액(천원)  소멸위기지역  1인가구구성원수  다인가구구성원수   인스타  블로그(1년)  카페(1년)  \n",
       "0         10088.84       0     20803    105317  1288      441     323  \n",
       "1          3261.61       0     34240    195153   696      264      85  \n",
       "2           539.75       0     30848    299301   162      314     217  \n",
       "3           779.74       0     55136    387012   561      924     162  \n",
       "4           779.74       0     55136    387012  1162      207     166  \n",
       "..             ...     ...       ...       ...   ...      ...     ...  \n",
       "160        1098.98       0     35853    391583    35       12       1  \n",
       "161         149.36       0     48607    455339   151      136      10  \n",
       "162        1198.70       0     84595    991584  1268      122      12  \n",
       "163         769.06       0     27709    188374    43       53      32  \n",
       "164         942.95       0     38197    261653   833       65      55  \n",
       "\n",
       "[165 rows x 19 columns]"
      ]
     },
     "execution_count": 15,
     "metadata": {},
     "output_type": "execute_result"
    }
   ],
   "source": [
    "X"
   ]
  },
  {
   "cell_type": "code",
   "execution_count": 16,
   "metadata": {},
   "outputs": [],
   "source": [
    "y = emart.iloc[:,-1]"
   ]
  },
  {
   "cell_type": "code",
   "execution_count": 17,
   "metadata": {},
   "outputs": [],
   "source": [
    "X_train, X_test, y_train, y_test = train_test_split(X, y)"
   ]
  },
  {
   "cell_type": "code",
   "execution_count": 18,
   "metadata": {},
   "outputs": [],
   "source": [
    "from sklearn.linear_model import LogisticRegression"
   ]
  },
  {
   "cell_type": "code",
   "execution_count": 19,
   "metadata": {},
   "outputs": [],
   "source": [
    "LR  = LogisticRegression()"
   ]
  },
  {
   "cell_type": "code",
   "execution_count": 20,
   "metadata": {},
   "outputs": [
    {
     "data": {
      "text/plain": [
       "LogisticRegression(C=1.0, class_weight=None, dual=False, fit_intercept=True,\n",
       "                   intercept_scaling=1, l1_ratio=None, max_iter=100,\n",
       "                   multi_class='auto', n_jobs=None, penalty='l2',\n",
       "                   random_state=None, solver='lbfgs', tol=0.0001, verbose=0,\n",
       "                   warm_start=False)"
      ]
     },
     "execution_count": 20,
     "metadata": {},
     "output_type": "execute_result"
    }
   ],
   "source": [
    "LR.fit(X_train,y_train)"
   ]
  },
  {
   "cell_type": "code",
   "execution_count": 21,
   "metadata": {},
   "outputs": [
    {
     "data": {
      "text/plain": [
       "0.9047619047619048"
      ]
     },
     "execution_count": 21,
     "metadata": {},
     "output_type": "execute_result"
    }
   ],
   "source": [
    "LR.score(X_test,y_test)"
   ]
  },
  {
   "cell_type": "code",
   "execution_count": 22,
   "metadata": {},
   "outputs": [
    {
     "data": {
      "text/plain": [
       "array([0, 0, 0, 0, 0, 0, 0, 0, 0, 0, 0, 0, 0, 0, 0, 0, 0, 0, 0, 0, 0, 0,\n",
       "       0, 0, 0, 0, 0, 0, 0, 0, 0, 0, 0, 0, 0, 0, 0, 0, 0, 0, 0, 0])"
      ]
     },
     "execution_count": 22,
     "metadata": {},
     "output_type": "execute_result"
    }
   ],
   "source": [
    "LR.predict(X_test)"
   ]
  },
  {
   "cell_type": "code",
   "execution_count": 23,
   "metadata": {},
   "outputs": [],
   "source": [
    "from sklearn.model_selection import cross_val_score"
   ]
  },
  {
   "cell_type": "code",
   "execution_count": 24,
   "metadata": {},
   "outputs": [
    {
     "data": {
      "text/plain": [
       "0.8367647058823529"
      ]
     },
     "execution_count": 24,
     "metadata": {},
     "output_type": "execute_result"
    }
   ],
   "source": [
    "cro_val = cross_val_score(LR,X,y, cv=10)\n",
    "cro_val.mean()"
   ]
  },
  {
   "cell_type": "code",
   "execution_count": 25,
   "metadata": {},
   "outputs": [],
   "source": [
    "from sklearn.metrics import classification_report, confusion_matrix"
   ]
  },
  {
   "cell_type": "code",
   "execution_count": 26,
   "metadata": {},
   "outputs": [
    {
     "name": "stdout",
     "output_type": "stream",
     "text": [
      "              precision    recall  f1-score   support\n",
      "\n",
      "           0       0.81      1.00      0.90       100\n",
      "           1       0.00      0.00      0.00        16\n",
      "           2       0.00      0.00      0.00         7\n",
      "\n",
      "    accuracy                           0.81       123\n",
      "   macro avg       0.27      0.33      0.30       123\n",
      "weighted avg       0.66      0.81      0.73       123\n",
      "\n"
     ]
    }
   ],
   "source": [
    "print(classification_report(y_train, LR.predict(X_train)))"
   ]
  },
  {
   "cell_type": "code",
   "execution_count": 27,
   "metadata": {
    "scrolled": true
   },
   "outputs": [
    {
     "name": "stdout",
     "output_type": "stream",
     "text": [
      "[[100   0   0]\n",
      " [ 16   0   0]\n",
      " [  7   0   0]]\n"
     ]
    }
   ],
   "source": [
    "print(confusion_matrix(y_train, LR.predict(X_train)))"
   ]
  },
  {
   "cell_type": "code",
   "execution_count": null,
   "metadata": {},
   "outputs": [],
   "source": []
  },
  {
   "cell_type": "code",
   "execution_count": null,
   "metadata": {},
   "outputs": [],
   "source": []
  },
  {
   "cell_type": "code",
   "execution_count": null,
   "metadata": {},
   "outputs": [],
   "source": []
  },
  {
   "cell_type": "code",
   "execution_count": null,
   "metadata": {},
   "outputs": [],
   "source": []
  },
  {
   "cell_type": "code",
   "execution_count": null,
   "metadata": {},
   "outputs": [],
   "source": []
  },
  {
   "cell_type": "markdown",
   "metadata": {},
   "source": [
    "# 다 0이라는 문제를 해결하기 위해 정규화를 해보자"
   ]
  },
  {
   "cell_type": "code",
   "execution_count": 28,
   "metadata": {},
   "outputs": [],
   "source": [
    "from sklearn.preprocessing import scale, robust_scale, minmax_scale, maxabs_scale "
   ]
  },
  {
   "cell_type": "code",
   "execution_count": 29,
   "metadata": {},
   "outputs": [],
   "source": [
    "data1 =emart.iloc[:,2:-1]\n",
    "data1= np.array(data1)\n",
    "data2 = scale(data1)\n",
    "data3 = robust_scale(data1)\n",
    "data4 = minmax_scale(data1)"
   ]
  },
  {
   "cell_type": "code",
   "execution_count": 30,
   "metadata": {},
   "outputs": [
    {
     "data": {
      "image/png": "[encoded data removed]",
      "text/plain": [
       "<Figure size 720x720 with 3 Axes>"
      ]
     },
     "metadata": {
      "needs_background": "light"
     },
     "output_type": "display_data"
    },
    {
     "data": {
      "image/png": "[encoded data removed]",
      "text/plain": [
       "<Figure size 432x432 with 3 Axes>"
      ]
     },
     "metadata": {
      "needs_background": "light"
     },
     "output_type": "display_data"
    },
    {
     "data": {
      "image/png": "[encoded data removed]",
      "text/plain": [
       "<Figure size 432x432 with 3 Axes>"
      ]
     },
     "metadata": {
      "needs_background": "light"
     },
     "output_type": "display_data"
    },
    {
     "data": {
      "image/png": "[encoded data removed]",
      "text/plain": [
       "<Figure size 432x432 with 3 Axes>"
      ]
     },
     "metadata": {
      "needs_background": "light"
     },
     "output_type": "display_data"
    }
   ],
   "source": [
    "sns.jointplot(data1[:,3],data1[:,12],height=10)\n",
    "plt.show()\n",
    "sns.jointplot(data2[:,3],data2[:,12])\n",
    "plt.show()\n",
    "sns.jointplot(data4[:,3],data3[:,12])\n",
    "plt.show()\n",
    "sns.jointplot(data4[:,3],data4[:,12])\n",
    "plt.show()"
   ]
  },
  {
   "cell_type": "code",
   "execution_count": 31,
   "metadata": {},
   "outputs": [],
   "source": [
    "# X = data2\n",
    "X = data3\n",
    "# X = data4\n",
    "y = emart.iloc[:,-1]"
   ]
  },
  {
   "cell_type": "code",
   "execution_count": 32,
   "metadata": {},
   "outputs": [
    {
     "data": {
      "text/plain": [
       "LogisticRegression(C=1.0, class_weight=None, dual=False, fit_intercept=True,\n",
       "                   intercept_scaling=1, l1_ratio=None, max_iter=100,\n",
       "                   multi_class='auto', n_jobs=None, penalty='l2',\n",
       "                   random_state=None, solver='lbfgs', tol=0.0001, verbose=0,\n",
       "                   warm_start=False)"
      ]
     },
     "execution_count": 32,
     "metadata": {},
     "output_type": "execute_result"
    }
   ],
   "source": [
    "LR.fit(X,y)"
   ]
  },
  {
   "cell_type": "code",
   "execution_count": 33,
   "metadata": {},
   "outputs": [],
   "source": [
    "cro_val = cross_val_score(LR,X,y,cv=10)"
   ]
  },
  {
   "cell_type": "code",
   "execution_count": 34,
   "metadata": {},
   "outputs": [
    {
     "data": {
      "text/plain": [
       "0.8786764705882353"
      ]
     },
     "execution_count": 34,
     "metadata": {},
     "output_type": "execute_result"
    }
   ],
   "source": [
    "cro_val.mean()"
   ]
  },
  {
   "cell_type": "code",
   "execution_count": 36,
   "metadata": {},
   "outputs": [
    {
     "data": {
      "text/plain": [
       "array([[0.98, 0.02, 0.  ],\n",
       "       [1.  , 0.  , 0.  ],\n",
       "       [0.83, 0.12, 0.05],\n",
       "       [0.99, 0.01, 0.  ],\n",
       "       [0.81, 0.03, 0.16],\n",
       "       [0.97, 0.03, 0.  ],\n",
       "       [0.97, 0.  , 0.03],\n",
       "       [0.91, 0.04, 0.05],\n",
       "       [0.47, 0.53, 0.  ],\n",
       "       [0.83, 0.05, 0.12],\n",
       "       [1.  , 0.  , 0.  ],\n",
       "       [0.99, 0.01, 0.  ],\n",
       "       [1.  , 0.  , 0.  ],\n",
       "       [0.99, 0.  , 0.01],\n",
       "       [1.  , 0.  , 0.  ],\n",
       "       [1.  , 0.  , 0.  ],\n",
       "       [0.99, 0.01, 0.  ],\n",
       "       [0.99, 0.  , 0.01],\n",
       "       [0.99, 0.01, 0.  ],\n",
       "       [1.  , 0.  , 0.  ],\n",
       "       [0.97, 0.01, 0.03],\n",
       "       [1.  , 0.  , 0.  ],\n",
       "       [1.  , 0.  , 0.  ],\n",
       "       [0.93, 0.03, 0.04],\n",
       "       [0.92, 0.02, 0.06],\n",
       "       [0.93, 0.02, 0.05],\n",
       "       [0.99, 0.01, 0.  ],\n",
       "       [0.99, 0.  , 0.01],\n",
       "       [0.89, 0.11, 0.  ],\n",
       "       [0.88, 0.02, 0.1 ],\n",
       "       [0.94, 0.06, 0.  ],\n",
       "       [0.92, 0.07, 0.  ],\n",
       "       [0.97, 0.03, 0.  ],\n",
       "       [0.8 , 0.15, 0.05],\n",
       "       [0.79, 0.12, 0.09],\n",
       "       [0.8 , 0.2 , 0.  ],\n",
       "       [0.8 , 0.2 , 0.  ],\n",
       "       [0.89, 0.11, 0.  ],\n",
       "       [1.  , 0.  , 0.  ],\n",
       "       [0.97, 0.02, 0.  ],\n",
       "       [0.98, 0.02, 0.  ],\n",
       "       [0.91, 0.02, 0.07],\n",
       "       [0.93, 0.06, 0.01],\n",
       "       [0.72, 0.27, 0.01],\n",
       "       [0.94, 0.06, 0.  ],\n",
       "       [0.99, 0.01, 0.  ],\n",
       "       [0.79, 0.18, 0.03],\n",
       "       [1.  , 0.  , 0.  ],\n",
       "       [0.97, 0.03, 0.  ],\n",
       "       [1.  , 0.  , 0.  ],\n",
       "       [0.53, 0.46, 0.01],\n",
       "       [0.96, 0.02, 0.02],\n",
       "       [0.84, 0.16, 0.01],\n",
       "       [0.95, 0.05, 0.01],\n",
       "       [1.  , 0.  , 0.  ],\n",
       "       [0.98, 0.02, 0.  ],\n",
       "       [0.96, 0.03, 0.01],\n",
       "       [0.83, 0.16, 0.01],\n",
       "       [0.96, 0.04, 0.  ],\n",
       "       [0.97, 0.03, 0.  ],\n",
       "       [0.99, 0.01, 0.  ],\n",
       "       [0.95, 0.04, 0.01],\n",
       "       [0.97, 0.02, 0.01],\n",
       "       [0.98, 0.01, 0.01],\n",
       "       [0.97, 0.03, 0.  ],\n",
       "       [0.84, 0.16, 0.01],\n",
       "       [0.98, 0.01, 0.  ],\n",
       "       [0.93, 0.06, 0.01],\n",
       "       [0.98, 0.01, 0.01],\n",
       "       [0.98, 0.02, 0.  ],\n",
       "       [0.95, 0.01, 0.03],\n",
       "       [1.  , 0.  , 0.  ],\n",
       "       [0.98, 0.02, 0.  ],\n",
       "       [0.58, 0.42, 0.  ],\n",
       "       [0.93, 0.07, 0.  ],\n",
       "       [0.77, 0.23, 0.  ],\n",
       "       [0.98, 0.02, 0.  ],\n",
       "       [0.97, 0.02, 0.01],\n",
       "       [0.96, 0.01, 0.03],\n",
       "       [0.91, 0.08, 0.01],\n",
       "       [0.97, 0.03, 0.01],\n",
       "       [0.88, 0.11, 0.  ],\n",
       "       [0.95, 0.  , 0.05],\n",
       "       [0.97, 0.03, 0.  ],\n",
       "       [0.99, 0.01, 0.  ],\n",
       "       [0.99, 0.01, 0.  ],\n",
       "       [0.91, 0.01, 0.07],\n",
       "       [0.94, 0.02, 0.03],\n",
       "       [0.95, 0.02, 0.03],\n",
       "       [0.95, 0.04, 0.  ],\n",
       "       [0.81, 0.19, 0.  ],\n",
       "       [0.99, 0.  , 0.  ],\n",
       "       [0.56, 0.44, 0.01],\n",
       "       [0.93, 0.06, 0.  ],\n",
       "       [0.98, 0.01, 0.01],\n",
       "       [0.99, 0.01, 0.  ],\n",
       "       [0.93, 0.07, 0.  ],\n",
       "       [0.96, 0.04, 0.  ],\n",
       "       [0.98, 0.02, 0.  ],\n",
       "       [0.96, 0.04, 0.  ],\n",
       "       [0.97, 0.02, 0.  ],\n",
       "       [0.87, 0.11, 0.02],\n",
       "       [0.93, 0.06, 0.01],\n",
       "       [0.99, 0.01, 0.  ],\n",
       "       [0.97, 0.03, 0.  ],\n",
       "       [0.95, 0.05, 0.  ],\n",
       "       [0.97, 0.03, 0.  ],\n",
       "       [0.81, 0.17, 0.02],\n",
       "       [0.89, 0.11, 0.  ],\n",
       "       [0.87, 0.05, 0.08],\n",
       "       [0.98, 0.  , 0.02],\n",
       "       [0.95, 0.01, 0.04],\n",
       "       [0.97, 0.  , 0.02],\n",
       "       [0.97, 0.  , 0.03],\n",
       "       [0.98, 0.02, 0.  ],\n",
       "       [0.98, 0.01, 0.01],\n",
       "       [0.94, 0.02, 0.04],\n",
       "       [0.92, 0.08, 0.  ],\n",
       "       [0.89, 0.05, 0.06],\n",
       "       [0.95, 0.02, 0.03],\n",
       "       [0.92, 0.08, 0.  ],\n",
       "       [0.88, 0.1 , 0.01],\n",
       "       [0.76, 0.18, 0.06],\n",
       "       [0.98, 0.01, 0.01],\n",
       "       [0.92, 0.04, 0.04],\n",
       "       [0.69, 0.3 , 0.  ],\n",
       "       [0.91, 0.03, 0.07],\n",
       "       [0.92, 0.02, 0.06],\n",
       "       [0.96, 0.04, 0.  ],\n",
       "       [0.95, 0.  , 0.04],\n",
       "       [0.89, 0.02, 0.09],\n",
       "       [0.95, 0.01, 0.04],\n",
       "       [0.94, 0.04, 0.01],\n",
       "       [0.93, 0.06, 0.01],\n",
       "       [0.99, 0.01, 0.  ],\n",
       "       [0.99, 0.01, 0.  ],\n",
       "       [1.  , 0.  , 0.  ],\n",
       "       [0.98, 0.  , 0.02],\n",
       "       [0.57, 0.43, 0.  ],\n",
       "       [0.53, 0.47, 0.  ],\n",
       "       [0.82, 0.15, 0.02],\n",
       "       [0.48, 0.49, 0.03],\n",
       "       [0.83, 0.17, 0.  ],\n",
       "       [0.  , 1.  , 0.  ],\n",
       "       [0.  , 1.  , 0.  ],\n",
       "       [0.61, 0.38, 0.02],\n",
       "       [0.25, 0.75, 0.  ],\n",
       "       [0.52, 0.48, 0.  ],\n",
       "       [0.11, 0.88, 0.01],\n",
       "       [0.07, 0.93, 0.  ],\n",
       "       [0.52, 0.43, 0.05],\n",
       "       [0.38, 0.61, 0.01],\n",
       "       [0.83, 0.17, 0.  ],\n",
       "       [0.27, 0.73, 0.  ],\n",
       "       [0.99, 0.01, 0.  ],\n",
       "       [0.23, 0.77, 0.  ],\n",
       "       [0.13, 0.01, 0.86],\n",
       "       [0.17, 0.  , 0.83],\n",
       "       [0.21, 0.01, 0.79],\n",
       "       [0.08, 0.02, 0.91],\n",
       "       [0.38, 0.01, 0.61],\n",
       "       [0.12, 0.  , 0.88],\n",
       "       [0.33, 0.01, 0.66],\n",
       "       [0.1 , 0.14, 0.76],\n",
       "       [0.69, 0.03, 0.28]])"
      ]
     },
     "execution_count": 36,
     "metadata": {},
     "output_type": "execute_result"
    }
   ],
   "source": [
    "np.round(LR.predict_proba(X),2)"
   ]
  },
  {
   "cell_type": "code",
   "execution_count": 37,
   "metadata": {},
   "outputs": [
    {
     "data": {
      "text/plain": [
       "array([[-1.09916103, -0.3898876 ,  0.6438859 , -1.13664473,  1.2256191 ,\n",
       "         0.18579776,  0.15633607, -0.06152643, -0.23979511,  0.49195086,\n",
       "        -0.11755017,  0.0565574 ,  0.17939302,  0.02529599,  0.0963428 ,\n",
       "        -0.25254851,  0.60514811,  0.3739615 , -0.06424264],\n",
       "       [-0.31243262,  0.13955119, -0.56143207,  1.01382017, -0.77193687,\n",
       "        -0.0203914 ,  0.83511258,  0.00816785,  0.09534303, -0.32198135,\n",
       "        -0.08114661, -0.1478647 ,  0.24348294, -0.0036338 , -0.15358352,\n",
       "         0.21436523, -0.11578207,  0.51129161,  1.0559984 ],\n",
       "       [ 1.41159365,  0.25033641, -0.08245383,  0.12282456, -0.45368222,\n",
       "        -0.16540636, -0.99144865,  0.05335858,  0.14445208, -0.16996952,\n",
       "         0.19869677,  0.0913073 , -0.42287596, -0.02166219,  0.05724072,\n",
       "         0.03818328, -0.48936604, -0.88525311, -0.99175576]])"
      ]
     },
     "execution_count": 37,
     "metadata": {},
     "output_type": "execute_result"
    }
   ],
   "source": [
    "LR.coef_"
   ]
  },
  {
   "cell_type": "code",
   "execution_count": 38,
   "metadata": {},
   "outputs": [
    {
     "name": "stdout",
     "output_type": "stream",
     "text": [
      "[0 0 0 0 0 0 0 0 0 0 0 0 0 0 0 0 0 0 0 0 0 0 0 0 0 0 0 0 0 0 0 0 0 0 0 0 0\n",
      " 0 0 0 0 0 0 0 0 0 0 0 0 0 0 0 0 0 0 0 0 0 0 0 0 0 0 0 0 0 0 0 0 0 0 0 0 0\n",
      " 0 0 0 0 0 0 0 0 0 0 0 0 0 0 0 0 0 0 0 0 0 0 0 0 0 0 0 0 0 0 0 0 0 0 0 0 0\n",
      " 0 0 0 0 0 0 0 0 0 0 0 0 0 0 0 0 0 0 0 0 0 0 0 0 0 0 0 1 1 1 1 1 1 1 1 1 1\n",
      " 1 1 1 1 1 1 1 1 2 2 2 2 2 2 2 2 2]\n"
     ]
    }
   ],
   "source": [
    "print(np.array(y))"
   ]
  },
  {
   "cell_type": "code",
   "execution_count": 39,
   "metadata": {},
   "outputs": [
    {
     "name": "stdout",
     "output_type": "stream",
     "text": [
      "[[137   1   0]\n",
      " [  9   9   0]\n",
      " [  1   0   8]]\n"
     ]
    }
   ],
   "source": [
    "print(confusion_matrix(y, LR.predict(X)))"
   ]
  },
  {
   "cell_type": "code",
   "execution_count": 40,
   "metadata": {},
   "outputs": [
    {
     "name": "stdout",
     "output_type": "stream",
     "text": [
      "              precision    recall  f1-score   support\n",
      "\n",
      "           0       0.93      0.99      0.96       138\n",
      "           1       0.90      0.50      0.64        18\n",
      "           2       1.00      0.89      0.94         9\n",
      "\n",
      "    accuracy                           0.93       165\n",
      "   macro avg       0.94      0.79      0.85       165\n",
      "weighted avg       0.93      0.93      0.93       165\n",
      "\n"
     ]
    }
   ],
   "source": [
    "print(classification_report(y, LR.predict(X)))"
   ]
  },
  {
   "cell_type": "code",
   "execution_count": null,
   "metadata": {},
   "outputs": [],
   "source": []
  },
  {
   "cell_type": "code",
   "execution_count": null,
   "metadata": {},
   "outputs": [],
   "source": []
  },
  {
   "cell_type": "code",
   "execution_count": null,
   "metadata": {},
   "outputs": [],
   "source": []
  },
  {
   "cell_type": "code",
   "execution_count": 41,
   "metadata": {},
   "outputs": [],
   "source": [
    "data2 = scale(data1)"
   ]
  },
  {
   "cell_type": "code",
   "execution_count": 42,
   "metadata": {},
   "outputs": [],
   "source": [
    "X = data2\n",
    "y = emart.iloc[:,-1]"
   ]
  },
  {
   "cell_type": "code",
   "execution_count": 43,
   "metadata": {},
   "outputs": [],
   "source": [
    "X_train, X_test, y_train, y_test = train_test_split(X,y, test_size=0.2)"
   ]
  },
  {
   "cell_type": "code",
   "execution_count": 44,
   "metadata": {},
   "outputs": [],
   "source": [
    "from sklearn.neighbors import KNeighborsClassifier\n",
    "from sklearn import svm"
   ]
  },
  {
   "cell_type": "code",
   "execution_count": 45,
   "metadata": {},
   "outputs": [],
   "source": [
    "train_accuracy = []\n",
    "test_accuracy = []\n",
    "neighbors = range(3,11,2)\n",
    "for n in neighbors:\n",
    "    knn = KNeighborsClassifier(n_neighbors=n)\n",
    "    knn.fit(X_train,y_train)\n",
    "    train_accuracy.append(knn.score(X_train,y_train))\n",
    "    test_accuracy.append(knn.score(X_test,y_test))\n",
    "k = test_accuracy.index(max(test_accuracy)) + 3"
   ]
  },
  {
   "cell_type": "code",
   "execution_count": 46,
   "metadata": {},
   "outputs": [],
   "source": [
    "KNN = KNeighborsClassifier(k)"
   ]
  },
  {
   "cell_type": "code",
   "execution_count": 47,
   "metadata": {},
   "outputs": [
    {
     "data": {
      "image/png": "[encoded data removed]",
      "text/plain": [
       "<Figure size 432x288 with 1 Axes>"
      ]
     },
     "metadata": {
      "needs_background": "light"
     },
     "output_type": "display_data"
    }
   ],
   "source": [
    "import matplotlib.pyplot as plt\n",
    "#딱 맞는 k함수를 찾아 주는 함수\n",
    "train_accuracy = []\n",
    "test_accuracy = []\n",
    "neighbors = range(1,11)\n",
    "for n in neighbors:\n",
    "    knn = KNeighborsClassifier(n_neighbors=n)\n",
    "    knn.fit(X_train,y_train)\n",
    "    train_accuracy.append(knn.score(X_train,y_train))\n",
    "    test_accuracy.append(knn.score(X_test,y_test))\n",
    "plt.plot(neighbors,train_accuracy, label=\"train_accuracy\")\n",
    "plt.plot(neighbors,test_accuracy, label=\"test_accuracy\")\n",
    "plt.xlabel(\"n_neighbors\")\n",
    "plt.ylabel(\"accuracy\")\n",
    "plt.legend()\n",
    "plt.show()"
   ]
  },
  {
   "cell_type": "code",
   "execution_count": 48,
   "metadata": {},
   "outputs": [
    {
     "data": {
      "text/plain": [
       "LogisticRegression(C=1.0, class_weight=None, dual=False, fit_intercept=True,\n",
       "                   intercept_scaling=1, l1_ratio=None, max_iter=100,\n",
       "                   multi_class='auto', n_jobs=None, penalty='l2',\n",
       "                   random_state=None, solver='lbfgs', tol=0.0001, verbose=0,\n",
       "                   warm_start=False)"
      ]
     },
     "execution_count": 48,
     "metadata": {},
     "output_type": "execute_result"
    }
   ],
   "source": [
    "LR.fit(X_train,y_train)"
   ]
  },
  {
   "cell_type": "code",
   "execution_count": 49,
   "metadata": {},
   "outputs": [
    {
     "data": {
      "text/plain": [
       "KNeighborsClassifier(algorithm='auto', leaf_size=30, metric='minkowski',\n",
       "                     metric_params=None, n_jobs=None, n_neighbors=3, p=2,\n",
       "                     weights='uniform')"
      ]
     },
     "execution_count": 49,
     "metadata": {},
     "output_type": "execute_result"
    }
   ],
   "source": [
    "KNN.fit(X,y)"
   ]
  },
  {
   "cell_type": "code",
   "execution_count": 50,
   "metadata": {},
   "outputs": [
    {
     "data": {
      "text/plain": [
       "array([[0.66666667, 0.33333333, 0.        ],\n",
       "       [1.        , 0.        , 0.        ],\n",
       "       [1.        , 0.        , 0.        ],\n",
       "       [1.        , 0.        , 0.        ],\n",
       "       [1.        , 0.        , 0.        ],\n",
       "       [1.        , 0.        , 0.        ],\n",
       "       [1.        , 0.        , 0.        ],\n",
       "       [0.66666667, 0.33333333, 0.        ],\n",
       "       [0.66666667, 0.33333333, 0.        ],\n",
       "       [0.66666667, 0.33333333, 0.        ],\n",
       "       [1.        , 0.        , 0.        ],\n",
       "       [1.        , 0.        , 0.        ],\n",
       "       [1.        , 0.        , 0.        ],\n",
       "       [0.66666667, 0.        , 0.33333333],\n",
       "       [1.        , 0.        , 0.        ],\n",
       "       [1.        , 0.        , 0.        ],\n",
       "       [1.        , 0.        , 0.        ],\n",
       "       [1.        , 0.        , 0.        ],\n",
       "       [1.        , 0.        , 0.        ],\n",
       "       [1.        , 0.        , 0.        ],\n",
       "       [1.        , 0.        , 0.        ],\n",
       "       [1.        , 0.        , 0.        ],\n",
       "       [1.        , 0.        , 0.        ],\n",
       "       [0.66666667, 0.33333333, 0.        ],\n",
       "       [0.66666667, 0.33333333, 0.        ],\n",
       "       [1.        , 0.        , 0.        ],\n",
       "       [1.        , 0.        , 0.        ],\n",
       "       [1.        , 0.        , 0.        ],\n",
       "       [0.66666667, 0.33333333, 0.        ],\n",
       "       [1.        , 0.        , 0.        ],\n",
       "       [1.        , 0.        , 0.        ],\n",
       "       [1.        , 0.        , 0.        ],\n",
       "       [1.        , 0.        , 0.        ],\n",
       "       [1.        , 0.        , 0.        ],\n",
       "       [0.33333333, 0.33333333, 0.33333333],\n",
       "       [0.66666667, 0.33333333, 0.        ],\n",
       "       [1.        , 0.        , 0.        ],\n",
       "       [0.66666667, 0.33333333, 0.        ],\n",
       "       [1.        , 0.        , 0.        ],\n",
       "       [1.        , 0.        , 0.        ],\n",
       "       [1.        , 0.        , 0.        ],\n",
       "       [1.        , 0.        , 0.        ],\n",
       "       [1.        , 0.        , 0.        ],\n",
       "       [1.        , 0.        , 0.        ],\n",
       "       [0.66666667, 0.33333333, 0.        ],\n",
       "       [1.        , 0.        , 0.        ],\n",
       "       [1.        , 0.        , 0.        ],\n",
       "       [1.        , 0.        , 0.        ],\n",
       "       [0.66666667, 0.33333333, 0.        ],\n",
       "       [1.        , 0.        , 0.        ],\n",
       "       [0.33333333, 0.66666667, 0.        ],\n",
       "       [0.66666667, 0.33333333, 0.        ],\n",
       "       [1.        , 0.        , 0.        ],\n",
       "       [1.        , 0.        , 0.        ],\n",
       "       [1.        , 0.        , 0.        ],\n",
       "       [1.        , 0.        , 0.        ],\n",
       "       [1.        , 0.        , 0.        ],\n",
       "       [1.        , 0.        , 0.        ],\n",
       "       [0.66666667, 0.33333333, 0.        ],\n",
       "       [0.66666667, 0.33333333, 0.        ],\n",
       "       [1.        , 0.        , 0.        ],\n",
       "       [1.        , 0.        , 0.        ],\n",
       "       [1.        , 0.        , 0.        ],\n",
       "       [1.        , 0.        , 0.        ],\n",
       "       [1.        , 0.        , 0.        ],\n",
       "       [1.        , 0.        , 0.        ],\n",
       "       [1.        , 0.        , 0.        ],\n",
       "       [1.        , 0.        , 0.        ],\n",
       "       [1.        , 0.        , 0.        ],\n",
       "       [1.        , 0.        , 0.        ],\n",
       "       [1.        , 0.        , 0.        ],\n",
       "       [1.        , 0.        , 0.        ],\n",
       "       [1.        , 0.        , 0.        ],\n",
       "       [1.        , 0.        , 0.        ],\n",
       "       [1.        , 0.        , 0.        ],\n",
       "       [1.        , 0.        , 0.        ],\n",
       "       [1.        , 0.        , 0.        ],\n",
       "       [1.        , 0.        , 0.        ],\n",
       "       [1.        , 0.        , 0.        ],\n",
       "       [1.        , 0.        , 0.        ],\n",
       "       [1.        , 0.        , 0.        ],\n",
       "       [1.        , 0.        , 0.        ],\n",
       "       [1.        , 0.        , 0.        ],\n",
       "       [1.        , 0.        , 0.        ],\n",
       "       [1.        , 0.        , 0.        ],\n",
       "       [0.66666667, 0.33333333, 0.        ],\n",
       "       [1.        , 0.        , 0.        ],\n",
       "       [1.        , 0.        , 0.        ],\n",
       "       [1.        , 0.        , 0.        ],\n",
       "       [1.        , 0.        , 0.        ],\n",
       "       [1.        , 0.        , 0.        ],\n",
       "       [0.66666667, 0.33333333, 0.        ],\n",
       "       [1.        , 0.        , 0.        ],\n",
       "       [1.        , 0.        , 0.        ],\n",
       "       [1.        , 0.        , 0.        ],\n",
       "       [0.66666667, 0.33333333, 0.        ],\n",
       "       [1.        , 0.        , 0.        ],\n",
       "       [1.        , 0.        , 0.        ],\n",
       "       [1.        , 0.        , 0.        ],\n",
       "       [1.        , 0.        , 0.        ],\n",
       "       [1.        , 0.        , 0.        ],\n",
       "       [1.        , 0.        , 0.        ],\n",
       "       [1.        , 0.        , 0.        ],\n",
       "       [1.        , 0.        , 0.        ],\n",
       "       [1.        , 0.        , 0.        ],\n",
       "       [1.        , 0.        , 0.        ],\n",
       "       [1.        , 0.        , 0.        ],\n",
       "       [1.        , 0.        , 0.        ],\n",
       "       [1.        , 0.        , 0.        ],\n",
       "       [1.        , 0.        , 0.        ],\n",
       "       [1.        , 0.        , 0.        ],\n",
       "       [1.        , 0.        , 0.        ],\n",
       "       [1.        , 0.        , 0.        ],\n",
       "       [1.        , 0.        , 0.        ],\n",
       "       [1.        , 0.        , 0.        ],\n",
       "       [1.        , 0.        , 0.        ],\n",
       "       [1.        , 0.        , 0.        ],\n",
       "       [1.        , 0.        , 0.        ],\n",
       "       [1.        , 0.        , 0.        ],\n",
       "       [1.        , 0.        , 0.        ],\n",
       "       [0.66666667, 0.33333333, 0.        ],\n",
       "       [1.        , 0.        , 0.        ],\n",
       "       [1.        , 0.        , 0.        ],\n",
       "       [1.        , 0.        , 0.        ],\n",
       "       [1.        , 0.        , 0.        ],\n",
       "       [1.        , 0.        , 0.        ],\n",
       "       [1.        , 0.        , 0.        ],\n",
       "       [1.        , 0.        , 0.        ],\n",
       "       [1.        , 0.        , 0.        ],\n",
       "       [1.        , 0.        , 0.        ],\n",
       "       [1.        , 0.        , 0.        ],\n",
       "       [1.        , 0.        , 0.        ],\n",
       "       [1.        , 0.        , 0.        ],\n",
       "       [1.        , 0.        , 0.        ],\n",
       "       [1.        , 0.        , 0.        ],\n",
       "       [1.        , 0.        , 0.        ],\n",
       "       [1.        , 0.        , 0.        ],\n",
       "       [1.        , 0.        , 0.        ],\n",
       "       [0.66666667, 0.33333333, 0.        ],\n",
       "       [0.66666667, 0.33333333, 0.        ],\n",
       "       [0.66666667, 0.33333333, 0.        ],\n",
       "       [0.66666667, 0.33333333, 0.        ],\n",
       "       [0.66666667, 0.33333333, 0.        ],\n",
       "       [0.        , 1.        , 0.        ],\n",
       "       [0.        , 1.        , 0.        ],\n",
       "       [0.33333333, 0.33333333, 0.33333333],\n",
       "       [0.66666667, 0.33333333, 0.        ],\n",
       "       [0.66666667, 0.33333333, 0.        ],\n",
       "       [0.33333333, 0.66666667, 0.        ],\n",
       "       [0.66666667, 0.33333333, 0.        ],\n",
       "       [0.66666667, 0.33333333, 0.        ],\n",
       "       [0.33333333, 0.66666667, 0.        ],\n",
       "       [0.66666667, 0.33333333, 0.        ],\n",
       "       [0.33333333, 0.66666667, 0.        ],\n",
       "       [0.66666667, 0.33333333, 0.        ],\n",
       "       [0.66666667, 0.33333333, 0.        ],\n",
       "       [0.33333333, 0.33333333, 0.33333333],\n",
       "       [0.33333333, 0.        , 0.66666667],\n",
       "       [0.33333333, 0.        , 0.66666667],\n",
       "       [0.33333333, 0.        , 0.66666667],\n",
       "       [0.33333333, 0.        , 0.66666667],\n",
       "       [0.33333333, 0.        , 0.66666667],\n",
       "       [0.33333333, 0.        , 0.66666667],\n",
       "       [0.        , 0.        , 1.        ],\n",
       "       [0.66666667, 0.        , 0.33333333]])"
      ]
     },
     "execution_count": 50,
     "metadata": {},
     "output_type": "execute_result"
    }
   ],
   "source": [
    "KNN.predict_proba(X)"
   ]
  },
  {
   "cell_type": "code",
   "execution_count": 51,
   "metadata": {},
   "outputs": [],
   "source": [
    "SVM = svm.SVC(probability=True)"
   ]
  },
  {
   "cell_type": "code",
   "execution_count": 52,
   "metadata": {},
   "outputs": [
    {
     "data": {
      "text/plain": [
       "SVC(C=1.0, break_ties=False, cache_size=200, class_weight=None, coef0=0.0,\n",
       "    decision_function_shape='ovr', degree=3, gamma='scale', kernel='rbf',\n",
       "    max_iter=-1, probability=True, random_state=None, shrinking=True, tol=0.001,\n",
       "    verbose=False)"
      ]
     },
     "execution_count": 52,
     "metadata": {},
     "output_type": "execute_result"
    }
   ],
   "source": [
    "SVM.fit(X,y)"
   ]
  },
  {
   "cell_type": "code",
   "execution_count": 54,
   "metadata": {},
   "outputs": [
    {
     "data": {
      "text/plain": [
       "array([[0.899, 0.085, 0.017],\n",
       "       [0.913, 0.085, 0.002],\n",
       "       [0.889, 0.083, 0.028],\n",
       "       [0.912, 0.085, 0.003],\n",
       "       [0.887, 0.079, 0.034],\n",
       "       [0.91 , 0.085, 0.005],\n",
       "       [0.89 , 0.084, 0.026],\n",
       "       [0.908, 0.083, 0.009],\n",
       "       [0.9  , 0.085, 0.016],\n",
       "       [0.871, 0.074, 0.056],\n",
       "       [0.925, 0.07 , 0.005],\n",
       "       [0.912, 0.085, 0.002],\n",
       "       [0.939, 0.059, 0.001],\n",
       "       [0.926, 0.044, 0.03 ],\n",
       "       [0.929, 0.067, 0.004],\n",
       "       [0.914, 0.085, 0.001],\n",
       "       [0.905, 0.084, 0.011],\n",
       "       [0.936, 0.053, 0.012],\n",
       "       [0.914, 0.085, 0.001],\n",
       "       [0.942, 0.051, 0.007],\n",
       "       [0.933, 0.034, 0.033],\n",
       "       [0.924, 0.05 , 0.027],\n",
       "       [0.903, 0.085, 0.012],\n",
       "       [0.918, 0.049, 0.034],\n",
       "       [0.898, 0.085, 0.017],\n",
       "       [0.917, 0.047, 0.035],\n",
       "       [0.914, 0.085, 0.001],\n",
       "       [0.92 , 0.045, 0.036],\n",
       "       [0.913, 0.085, 0.002],\n",
       "       [0.922, 0.042, 0.036],\n",
       "       [0.905, 0.077, 0.018],\n",
       "       [0.912, 0.085, 0.003],\n",
       "       [0.912, 0.085, 0.003],\n",
       "       [0.906, 0.082, 0.012],\n",
       "       [0.89 , 0.084, 0.025],\n",
       "       [0.91 , 0.085, 0.005],\n",
       "       [0.918, 0.076, 0.006],\n",
       "       [0.914, 0.085, 0.001],\n",
       "       [0.944, 0.054, 0.003],\n",
       "       [0.909, 0.084, 0.007],\n",
       "       [0.921, 0.076, 0.003],\n",
       "       [0.899, 0.068, 0.033],\n",
       "       [0.916, 0.074, 0.01 ],\n",
       "       [0.913, 0.085, 0.002],\n",
       "       [0.913, 0.085, 0.001],\n",
       "       [0.946, 0.048, 0.006],\n",
       "       [0.895, 0.085, 0.02 ],\n",
       "       [0.906, 0.085, 0.009],\n",
       "       [0.913, 0.085, 0.002],\n",
       "       [0.912, 0.085, 0.003],\n",
       "       [0.861, 0.125, 0.013],\n",
       "       [0.895, 0.069, 0.035],\n",
       "       [0.913, 0.085, 0.002],\n",
       "       [0.932, 0.065, 0.003],\n",
       "       [0.907, 0.085, 0.008],\n",
       "       [0.908, 0.085, 0.008],\n",
       "       [0.931, 0.063, 0.006],\n",
       "       [0.958, 0.04 , 0.002],\n",
       "       [0.899, 0.085, 0.016],\n",
       "       [0.914, 0.085, 0.   ],\n",
       "       [0.958, 0.041, 0.001],\n",
       "       [0.947, 0.045, 0.009],\n",
       "       [0.936, 0.055, 0.009],\n",
       "       [0.946, 0.049, 0.005],\n",
       "       [0.919, 0.08 , 0.002],\n",
       "       [0.901, 0.095, 0.004],\n",
       "       [0.912, 0.085, 0.003],\n",
       "       [0.97 , 0.027, 0.003],\n",
       "       [0.95 , 0.042, 0.008],\n",
       "       [0.954, 0.046, 0.   ],\n",
       "       [0.94 , 0.041, 0.019],\n",
       "       [0.906, 0.085, 0.01 ],\n",
       "       [0.944, 0.056, 0.001],\n",
       "       [0.914, 0.085, 0.001],\n",
       "       [0.917, 0.078, 0.005],\n",
       "       [0.914, 0.085, 0.   ],\n",
       "       [0.912, 0.085, 0.004],\n",
       "       [0.954, 0.042, 0.004],\n",
       "       [0.94 , 0.049, 0.011],\n",
       "       [0.912, 0.085, 0.004],\n",
       "       [0.925, 0.068, 0.007],\n",
       "       [0.914, 0.085, 0.001],\n",
       "       [0.932, 0.054, 0.014],\n",
       "       [0.958, 0.039, 0.003],\n",
       "       [0.974, 0.024, 0.001],\n",
       "       [0.913, 0.085, 0.002],\n",
       "       [0.935, 0.032, 0.033],\n",
       "       [0.91 , 0.07 , 0.02 ],\n",
       "       [0.955, 0.032, 0.013],\n",
       "       [0.911, 0.085, 0.004],\n",
       "       [0.925, 0.073, 0.003],\n",
       "       [0.948, 0.048, 0.003],\n",
       "       [0.912, 0.085, 0.003],\n",
       "       [0.911, 0.085, 0.005],\n",
       "       [0.946, 0.045, 0.009],\n",
       "       [0.952, 0.046, 0.002],\n",
       "       [0.916, 0.084, 0.   ],\n",
       "       [0.946, 0.053, 0.001],\n",
       "       [0.957, 0.041, 0.002],\n",
       "       [0.91 , 0.085, 0.005],\n",
       "       [0.941, 0.055, 0.004],\n",
       "       [0.939, 0.058, 0.003],\n",
       "       [0.954, 0.045, 0.002],\n",
       "       [0.953, 0.046, 0.   ],\n",
       "       [0.913, 0.085, 0.002],\n",
       "       [0.914, 0.085, 0.001],\n",
       "       [0.931, 0.068, 0.001],\n",
       "       [0.959, 0.037, 0.004],\n",
       "       [0.926, 0.074, 0.001],\n",
       "       [0.93 , 0.036, 0.034],\n",
       "       [0.951, 0.037, 0.012],\n",
       "       [0.939, 0.032, 0.029],\n",
       "       [0.898, 0.085, 0.017],\n",
       "       [0.957, 0.027, 0.016],\n",
       "       [0.913, 0.085, 0.002],\n",
       "       [0.956, 0.036, 0.007],\n",
       "       [0.965, 0.023, 0.011],\n",
       "       [0.914, 0.085, 0.001],\n",
       "       [0.927, 0.052, 0.021],\n",
       "       [0.942, 0.042, 0.016],\n",
       "       [0.914, 0.085, 0.001],\n",
       "       [0.911, 0.085, 0.005],\n",
       "       [0.894, 0.085, 0.021],\n",
       "       [0.941, 0.054, 0.005],\n",
       "       [0.96 , 0.03 , 0.01 ],\n",
       "       [0.911, 0.085, 0.004],\n",
       "       [0.914, 0.052, 0.035],\n",
       "       [0.925, 0.04 , 0.034],\n",
       "       [0.927, 0.071, 0.002],\n",
       "       [0.945, 0.038, 0.017],\n",
       "       [0.929, 0.036, 0.035],\n",
       "       [0.926, 0.039, 0.036],\n",
       "       [0.946, 0.048, 0.006],\n",
       "       [0.931, 0.063, 0.006],\n",
       "       [0.945, 0.049, 0.005],\n",
       "       [0.913, 0.085, 0.002],\n",
       "       [0.908, 0.078, 0.014],\n",
       "       [0.896, 0.085, 0.019],\n",
       "       [0.625, 0.374, 0.001],\n",
       "       [0.699, 0.296, 0.005],\n",
       "       [0.894, 0.1  , 0.006],\n",
       "       [0.481, 0.506, 0.013],\n",
       "       [0.46 , 0.531, 0.009],\n",
       "       [0.019, 0.973, 0.008],\n",
       "       [0.017, 0.975, 0.008],\n",
       "       [0.814, 0.162, 0.024],\n",
       "       [0.595, 0.405, 0.   ],\n",
       "       [0.114, 0.879, 0.008],\n",
       "       [0.038, 0.952, 0.01 ],\n",
       "       [0.058, 0.934, 0.008],\n",
       "       [0.635, 0.343, 0.022],\n",
       "       [0.255, 0.739, 0.005],\n",
       "       [0.748, 0.25 , 0.002],\n",
       "       [0.235, 0.762, 0.004],\n",
       "       [0.954, 0.045, 0.001],\n",
       "       [0.186, 0.806, 0.008],\n",
       "       [0.001, 0.006, 0.993],\n",
       "       [0.009, 0.014, 0.977],\n",
       "       [0.   , 0.003, 0.997],\n",
       "       [0.001, 0.006, 0.994],\n",
       "       [0.004, 0.006, 0.99 ],\n",
       "       [0.006, 0.031, 0.962],\n",
       "       [0.005, 0.023, 0.972],\n",
       "       [0.003, 0.017, 0.98 ],\n",
       "       [0.151, 0.041, 0.808]])"
      ]
     },
     "execution_count": 54,
     "metadata": {},
     "output_type": "execute_result"
    }
   ],
   "source": [
    "np.round(SVM.predict_proba(X),3)"
   ]
  },
  {
   "cell_type": "code",
   "execution_count": null,
   "metadata": {},
   "outputs": [],
   "source": []
  },
  {
   "cell_type": "code",
   "execution_count": null,
   "metadata": {},
   "outputs": [],
   "source": []
  },
  {
   "cell_type": "code",
   "execution_count": 64,
   "metadata": {},
   "outputs": [],
   "source": [
    "cro_val_LR = cross_val_score(LR,X,y,cv=10)\n",
    "cro_val_KNN = cross_val_score(KNN,X,y,cv=10)\n",
    "cro_val_SVM = cross_val_score(SVM,X,y,cv=10)"
   ]
  },
  {
   "cell_type": "code",
   "execution_count": 65,
   "metadata": {},
   "outputs": [
    {
     "data": {
      "text/plain": [
       "0.8669117647058823"
      ]
     },
     "execution_count": 65,
     "metadata": {},
     "output_type": "execute_result"
    }
   ],
   "source": [
    "cro_val_LR.mean()"
   ]
  },
  {
   "cell_type": "code",
   "execution_count": 66,
   "metadata": {},
   "outputs": [
    {
     "data": {
      "text/plain": [
       "(0.8610294117647058, 3)"
      ]
     },
     "execution_count": 66,
     "metadata": {},
     "output_type": "execute_result"
    }
   ],
   "source": [
    "cro_val_KNN.mean(),k"
   ]
  },
  {
   "cell_type": "code",
   "execution_count": 67,
   "metadata": {},
   "outputs": [
    {
     "data": {
      "text/plain": [
       "0.8367647058823529"
      ]
     },
     "execution_count": 67,
     "metadata": {},
     "output_type": "execute_result"
    }
   ],
   "source": [
    "cro_val_SVM.mean()"
   ]
  },
  {
   "cell_type": "code",
   "execution_count": null,
   "metadata": {},
   "outputs": [],
   "source": []
  },
  {
   "cell_type": "code",
   "execution_count": 68,
   "metadata": {},
   "outputs": [
    {
     "data": {
      "text/plain": [
       "<matplotlib.axes._subplots.AxesSubplot at 0x7fe299b71150>"
      ]
     },
     "execution_count": 68,
     "metadata": {},
     "output_type": "execute_result"
    },
    {
     "data": {
      "image/png": "[encoded data removed]",
      "text/plain": [
       "<Figure size 1080x720 with 1 Axes>"
      ]
     },
     "metadata": {
      "needs_background": "light"
     },
     "output_type": "display_data"
    }
   ],
   "source": [
    "#매출 outlier\n",
    "plt.figure(figsize=(15,10))\n",
    "sns.boxplot(x=y,y=data4[:,7])"
   ]
  },
  {
   "cell_type": "code",
   "execution_count": null,
   "metadata": {},
   "outputs": [],
   "source": []
  }
 ],
 "metadata": {
  "kernelspec": {
   "display_name": "Python 3",
   "language": "python",
   "name": "python3"
  },
  "language_info": {
   "codemirror_mode": {
    "name": "ipython",
    "version": 3
   },
   "file_extension": ".py",
   "mimetype": "text/x-python",
   "name": "python",
   "nbconvert_exporter": "python",
   "pygments_lexer": "ipython3",
   "version": "3.7.6"
  }
 },
 "nbformat": 4,
 "nbformat_minor": 4
}
