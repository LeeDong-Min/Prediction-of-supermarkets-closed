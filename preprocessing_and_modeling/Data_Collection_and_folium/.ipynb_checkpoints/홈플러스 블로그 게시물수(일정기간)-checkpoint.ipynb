{
 "cells": [
  {
   "cell_type": "code",
   "execution_count": 1,
   "metadata": {},
   "outputs": [],
   "source": [
    "import numpy as np\n",
    "import pandas as pd\n",
    "import seaborn as sns\n",
    "import matplotlib.pyplot as plt\n",
    "import matplotlib\n",
    "from matplotlib import font_manager, rc\n",
    "sns.set(style='darkgrid')\n",
    "\n",
    "\n",
    "rc('font', family='AppleGothic')\n",
    "matplotlib.rcParams['axes.unicode_minus'] = False\n",
    "%matplotlib inline\n",
    "\n",
    "import warnings\n",
    "warnings.filterwarnings(\"ignore\")"
   ]
  },
  {
   "cell_type": "code",
   "execution_count": 2,
   "metadata": {},
   "outputs": [
    {
     "data": {
      "text/html": [
       "<div>\n",
       "<style scoped>\n",
       "    .dataframe tbody tr th:only-of-type {\n",
       "        vertical-align: middle;\n",
       "    }\n",
       "\n",
       "    .dataframe tbody tr th {\n",
       "        vertical-align: top;\n",
       "    }\n",
       "\n",
       "    .dataframe thead th {\n",
       "        text-align: right;\n",
       "    }\n",
       "</style>\n",
       "<table border=\"1\" class=\"dataframe\">\n",
       "  <thead>\n",
       "    <tr style=\"text-align: right;\">\n",
       "      <th></th>\n",
       "      <th>지점명</th>\n",
       "    </tr>\n",
       "  </thead>\n",
       "  <tbody>\n",
       "    <tr>\n",
       "      <th>0</th>\n",
       "      <td>강동점</td>\n",
       "    </tr>\n",
       "    <tr>\n",
       "      <th>1</th>\n",
       "      <td>강서점</td>\n",
       "    </tr>\n",
       "    <tr>\n",
       "      <th>2</th>\n",
       "      <td>신도림점</td>\n",
       "    </tr>\n",
       "    <tr>\n",
       "      <th>3</th>\n",
       "      <td>금천점</td>\n",
       "    </tr>\n",
       "    <tr>\n",
       "      <th>4</th>\n",
       "      <td>중계점</td>\n",
       "    </tr>\n",
       "    <tr>\n",
       "      <th>...</th>\n",
       "      <td>...</td>\n",
       "    </tr>\n",
       "    <tr>\n",
       "      <th>138</th>\n",
       "      <td>청주성안점</td>\n",
       "    </tr>\n",
       "    <tr>\n",
       "      <th>139</th>\n",
       "      <td>칠곡IC점</td>\n",
       "    </tr>\n",
       "    <tr>\n",
       "      <th>140</th>\n",
       "      <td>상주점</td>\n",
       "    </tr>\n",
       "    <tr>\n",
       "      <th>141</th>\n",
       "      <td>부천중동점</td>\n",
       "    </tr>\n",
       "    <tr>\n",
       "      <th>142</th>\n",
       "      <td>동김해점</td>\n",
       "    </tr>\n",
       "  </tbody>\n",
       "</table>\n",
       "<p>143 rows × 1 columns</p>\n",
       "</div>"
      ],
      "text/plain": [
       "       지점명\n",
       "0      강동점\n",
       "1      강서점\n",
       "2     신도림점\n",
       "3      금천점\n",
       "4      중계점\n",
       "..     ...\n",
       "138  청주성안점\n",
       "139  칠곡IC점\n",
       "140    상주점\n",
       "141  부천중동점\n",
       "142   동김해점\n",
       "\n",
       "[143 rows x 1 columns]"
      ]
     },
     "execution_count": 2,
     "metadata": {},
     "output_type": "execute_result"
    }
   ],
   "source": [
    "hp = pd.read_excel(\"../../../../Downloads/홈플.xlsx\",usecols=\"A\")\n",
    "hp"
   ]
  },
  {
   "cell_type": "code",
   "execution_count": 4,
   "metadata": {},
   "outputs": [],
   "source": [
    "a = [\"홈플러스\"+i for i in hp.지점명]"
   ]
  },
  {
   "cell_type": "code",
   "execution_count": 5,
   "metadata": {},
   "outputs": [],
   "source": [
    "from bs4 import BeautifulSoup\n",
    "import urllib.request as req\n",
    "import urllib.parse\n",
    "import sys\n",
    "import io"
   ]
  },
  {
   "cell_type": "code",
   "execution_count": 6,
   "metadata": {},
   "outputs": [
    {
     "name": "stdout",
     "output_type": "stream",
     "text": [
      "홈플러스강동점 298\n",
      "홈플러스강서점 724\n",
      "홈플러스신도림점 37\n",
      "홈플러스금천점 507\n",
      "홈플러스중계점 262\n",
      "홈플러스방학점 35\n",
      "홈플러스합정점 36\n",
      "홈플러스월드컵점 46\n",
      "홈플러스월곡점 254\n",
      "홈플러스잠실점 383\n",
      "홈플러스영등포점 412\n",
      "홈플러스면목점 124\n",
      "홈플러스상봉점 27\n",
      "홈플러스신내점 116\n",
      "홈플러스계산점 558\n",
      "홈플러스작전점 520\n",
      "홈플러스인하점 1,017\n",
      "홈플러스간석점 522\n",
      "홈플러스구월점 187\n",
      "홈플러스인천논현점 158\n",
      "홈플러스가좌점 340\n",
      "홈플러스인천청라점 9\n",
      "홈플러스송도점 39\n",
      "홈플러스고양터미널점 6\n",
      "홈플러스일산점 262\n",
      "홈플러스킨텍스점 82\n",
      "홈플러스김포점 117\n",
      "홈플러스김포풍무점 351\n",
      "홈플러스진접점 9\n",
      "홈플러스부천소사점 137\n",
      "홈플러스부천여월점 84\n",
      "홈플러스부천상동점 309\n",
      "홈플러스야탑점 62\n",
      "홈플러스서수원점 26\n",
      "홈플러스영통점 411\n",
      "홈플러스원천점 145\n",
      "홈플러스북수원점 431\n",
      "홈플러스동수원점 296\n",
      "홈플러스안산선부점 107\n",
      "홈플러스안산점 316\n",
      "홈플러스평촌점 198\n",
      "홈플러스안양점 72\n",
      "홈플러스오산점 18\n",
      "홈플러스의정부점 333\n",
      "홈플러스파주문산점 24\n",
      "홈플러스파주운정점 20\n",
      "홈플러스송탄점 41\n",
      "홈플러스평택안중점 0\n",
      "홈플러스포천송우점 16\n",
      "홈플러스하남점 19\n",
      "홈플러스병점점 57\n",
      "홈플러스화성향남점 43\n",
      "홈플러스강릉점 51\n",
      "홈플러스삼척점 16\n",
      "홈플러스원주점 34\n",
      "홈플러스춘천점 102\n",
      "홈플러스동청주점 136\n",
      "홈플러스오창점 48\n",
      "홈플러스청주점 139\n",
      "홈플러스세종점 135\n",
      "홈플러스조치원점 42\n",
      "홈플러스대전가오점 36\n",
      "홈플러스대전둔산점 118\n",
      "홈플러스대전탄방점 30\n",
      "홈플러스서대전점 83\n",
      "홈플러스유성점 73\n",
      "홈플러스문화점 193\n",
      "홈플러스계룡점 117\n",
      "홈플러스논산점 42\n",
      "홈플러스보령점 17\n",
      "홈플러스천안점 40\n",
      "홈플러스김제점 10\n",
      "홈플러스익산점 84\n",
      "홈플러스전주점 59\n",
      "홈플러스전주효자점 115\n",
      "홈플러스계림점 236\n",
      "홈플러스동광주점 315\n",
      "홈플러스광양점 73\n",
      "홈플러스목포점 27\n",
      "홈플러스순천점 137\n",
      "홈플러스남대구점 187\n",
      "홈플러스성서점 360\n",
      "홈플러스동촌점 143\n",
      "홈플러스칠곡점 303\n",
      "홈플러스내당점 280\n",
      "홈플러스대구스타디움점 23\n",
      "홈플러스대구수성점 66\n",
      "홈플러스경산점 19\n",
      "홈플러스경주점 37\n",
      "홈플러스구미점 114\n",
      "홈플러스문경점 21\n",
      "홈플러스안동점 11\n",
      "홈플러스영주점 23\n",
      "홈플러스포항점 3\n",
      "홈플러스죽도점 30\n",
      "홈플러스부산감만점 20\n",
      "홈플러스동래점 389\n",
      "홈플러스가야점 437\n",
      "홈플러스서면점 93\n",
      "홈플러스장림점 85\n",
      "홈플러스아시아드점 462\n",
      "홈플러스부산연산점 4\n",
      "홈플러스영도점 91\n",
      "홈플러스부산반여점 22\n",
      "홈플러스센텀시티점 651\n",
      "홈플러스부산정관점 37\n",
      "홈플러스울산남구점 80\n",
      "홈플러스울산동구점 109\n",
      "홈플러스울산북구점 73\n",
      "홈플러스울산점 541\n",
      "홈플러스거제점 54\n",
      "홈플러스김해점 258\n",
      "홈플러스밀양점 21\n",
      "홈플러스삼천포점 17\n",
      "홈플러스진주점 48\n",
      "홈플러스마산점 131\n",
      "홈플러스창원점 276\n",
      "홈플러스진해점 59\n",
      "홈플러스서귀포점 61\n",
      "홈플러스가양점 282\n",
      "홈플러스동대문점 515\n",
      "홈플러스목동점 945\n",
      "홈플러스서울남현점 3\n",
      "홈플러스시흥점 417\n",
      "홈플러스분당오리점 69\n",
      "홈플러스시화점 144\n",
      "홈플러스안산고잔점 205\n",
      "홈플러스화성동탄점 72\n",
      "홈플러스인천연수점 10\n",
      "홈플러스광주하남점 57\n",
      "홈플러스대구점 269\n",
      "홈플러스상인점 357\n",
      "홈플러스동대전점 97\n",
      "홈플러스서부산점 38\n",
      "홈플러스해운대점 208\n",
      "홈플러스순천풍덕점 7\n",
      "홈플러스전주완산점 45\n",
      "홈플러스천안신방점 159\n",
      "홈플러스청주성안점 38\n",
      "홈플러스칠곡IC점 0\n",
      "홈플러스상주점 0\n",
      "홈플러스부천중동점 0\n",
      "홈플러스동김해점 0\n"
     ]
    }
   ],
   "source": [
    "count = []\n",
    "for i in a:\n",
    "    try:\n",
    "        plus_url = urllib.parse.quote_plus('\"{}\"'.format(i))\n",
    "        url = \"https://search.naver.com/search.naver?where=post&query={}&st=sim&sm=tab_opt&date_from=20030520&date_to=20200708&date_option=7&srchby=all&dup_remove=1&post_blogurl=&post_blogurl_without=&nso=so%3Ar%2Ca%3Aall%2Cp%3A1y\".format(plus_url)\n",
    "\n",
    "        res = req.urlopen(url).read()\n",
    "        soup = BeautifulSoup(res, 'html.parser')\n",
    "        title = soup.find(class_=\"title_num\")\n",
    "        \n",
    "        count.append(title.text.split(\"/\")[1].strip()[:-1])\n",
    "        print(i,count[-1])\n",
    "    except:\n",
    "        count.append(0)\n",
    "        print(i,count[-1])"
   ]
  },
  {
   "cell_type": "code",
   "execution_count": 7,
   "metadata": {},
   "outputs": [
    {
     "data": {
      "text/plain": [
       "143"
      ]
     },
     "execution_count": 7,
     "metadata": {},
     "output_type": "execute_result"
    }
   ],
   "source": [
    "len(count)"
   ]
  },
  {
   "cell_type": "code",
   "execution_count": 8,
   "metadata": {},
   "outputs": [],
   "source": [
    "hp[\"블로그게시물(1년)\"] = count"
   ]
  },
  {
   "cell_type": "code",
   "execution_count": 9,
   "metadata": {},
   "outputs": [],
   "source": [
    "hp.to_excel(\"../../데이터/홈플(블로그게시물(1년).xlsx\",encoding=\"cp949\",index=False)"
   ]
  },
  {
   "cell_type": "code",
   "execution_count": 10,
   "metadata": {},
   "outputs": [
    {
     "data": {
      "text/html": [
       "<div>\n",
       "<style scoped>\n",
       "    .dataframe tbody tr th:only-of-type {\n",
       "        vertical-align: middle;\n",
       "    }\n",
       "\n",
       "    .dataframe tbody tr th {\n",
       "        vertical-align: top;\n",
       "    }\n",
       "\n",
       "    .dataframe thead th {\n",
       "        text-align: right;\n",
       "    }\n",
       "</style>\n",
       "<table border=\"1\" class=\"dataframe\">\n",
       "  <thead>\n",
       "    <tr style=\"text-align: right;\">\n",
       "      <th></th>\n",
       "      <th>지점명</th>\n",
       "      <th>Unnamed: 5</th>\n",
       "    </tr>\n",
       "  </thead>\n",
       "  <tbody>\n",
       "    <tr>\n",
       "      <th>0</th>\n",
       "      <td>강동점</td>\n",
       "      <td>NaN</td>\n",
       "    </tr>\n",
       "    <tr>\n",
       "      <th>1</th>\n",
       "      <td>강서점</td>\n",
       "      <td>NaN</td>\n",
       "    </tr>\n",
       "    <tr>\n",
       "      <th>2</th>\n",
       "      <td>신도림점</td>\n",
       "      <td>NaN</td>\n",
       "    </tr>\n",
       "    <tr>\n",
       "      <th>3</th>\n",
       "      <td>금천점</td>\n",
       "      <td>NaN</td>\n",
       "    </tr>\n",
       "    <tr>\n",
       "      <th>4</th>\n",
       "      <td>중계점</td>\n",
       "      <td>NaN</td>\n",
       "    </tr>\n",
       "    <tr>\n",
       "      <th>...</th>\n",
       "      <td>...</td>\n",
       "      <td>...</td>\n",
       "    </tr>\n",
       "    <tr>\n",
       "      <th>138</th>\n",
       "      <td>청주성안점</td>\n",
       "      <td>0.0</td>\n",
       "    </tr>\n",
       "    <tr>\n",
       "      <th>139</th>\n",
       "      <td>칠곡IC점</td>\n",
       "      <td>0.0</td>\n",
       "    </tr>\n",
       "    <tr>\n",
       "      <th>140</th>\n",
       "      <td>상주점</td>\n",
       "      <td>NaN</td>\n",
       "    </tr>\n",
       "    <tr>\n",
       "      <th>141</th>\n",
       "      <td>부천중동점</td>\n",
       "      <td>0.0</td>\n",
       "    </tr>\n",
       "    <tr>\n",
       "      <th>142</th>\n",
       "      <td>동김해점</td>\n",
       "      <td>NaN</td>\n",
       "    </tr>\n",
       "  </tbody>\n",
       "</table>\n",
       "<p>143 rows × 2 columns</p>\n",
       "</div>"
      ],
      "text/plain": [
       "       지점명  Unnamed: 5\n",
       "0      강동점         NaN\n",
       "1      강서점         NaN\n",
       "2     신도림점         NaN\n",
       "3      금천점         NaN\n",
       "4      중계점         NaN\n",
       "..     ...         ...\n",
       "138  청주성안점         0.0\n",
       "139  칠곡IC점         0.0\n",
       "140    상주점         NaN\n",
       "141  부천중동점         0.0\n",
       "142   동김해점         NaN\n",
       "\n",
       "[143 rows x 2 columns]"
      ]
     },
     "execution_count": 10,
     "metadata": {},
     "output_type": "execute_result"
    }
   ],
   "source": [
    "hp = pd.read_excel(\"../../../../Downloads/홈플.xlsx\",usecols=\"A,F\")\n",
    "hp"
   ]
  },
  {
   "cell_type": "code",
   "execution_count": 14,
   "metadata": {},
   "outputs": [],
   "source": [
    "hp=hp[hp.isna().sum(1)!=True]"
   ]
  },
  {
   "cell_type": "code",
   "execution_count": 15,
   "metadata": {},
   "outputs": [],
   "source": [
    "hp.reset_index(drop=True,inplace=True)"
   ]
  },
  {
   "cell_type": "code",
   "execution_count": 17,
   "metadata": {},
   "outputs": [],
   "source": [
    "hp = hp.지점명"
   ]
  },
  {
   "cell_type": "code",
   "execution_count": 18,
   "metadata": {},
   "outputs": [
    {
     "data": {
      "text/plain": [
       "0     인천논현점\n",
       "1     인천청라점\n",
       "2     김포풍무점\n",
       "3     부천소사점\n",
       "4     부천여월점\n",
       "5     부천상동점\n",
       "6     안산선부점\n",
       "7     파주문산점\n",
       "8     파주운정점\n",
       "9     평택안중점\n",
       "10    포천송우점\n",
       "11    화성향남점\n",
       "12    대전가오점\n",
       "13    대전둔산점\n",
       "14    대전탄방점\n",
       "15    전주효자점\n",
       "16    대구수성점\n",
       "17    부산감만점\n",
       "18    부산연산점\n",
       "19    부산반여점\n",
       "20    부산정관점\n",
       "21    서울남현점\n",
       "22    분당오리점\n",
       "23    안산고잔점\n",
       "24    화성동탄점\n",
       "25    인천연수점\n",
       "26    광주하남점\n",
       "27    순천풍덕점\n",
       "28    전주완산점\n",
       "29    천안신방점\n",
       "30    청주성안점\n",
       "31    칠곡IC점\n",
       "32    부천중동점\n",
       "Name: 지점명, dtype: object"
      ]
     },
     "execution_count": 18,
     "metadata": {},
     "output_type": "execute_result"
    }
   ],
   "source": [
    "hp"
   ]
  },
  {
   "cell_type": "code",
   "execution_count": 24,
   "metadata": {},
   "outputs": [],
   "source": [
    "a = [\"홈플러스\"+i[2:] for i in hp]"
   ]
  },
  {
   "cell_type": "code",
   "execution_count": 25,
   "metadata": {},
   "outputs": [
    {
     "data": {
      "text/plain": [
       "['홈플러스논현점',\n",
       " '홈플러스청라점',\n",
       " '홈플러스풍무점',\n",
       " '홈플러스소사점',\n",
       " '홈플러스여월점',\n",
       " '홈플러스상동점',\n",
       " '홈플러스선부점',\n",
       " '홈플러스문산점',\n",
       " '홈플러스운정점',\n",
       " '홈플러스안중점',\n",
       " '홈플러스송우점',\n",
       " '홈플러스향남점',\n",
       " '홈플러스가오점',\n",
       " '홈플러스둔산점',\n",
       " '홈플러스탄방점',\n",
       " '홈플러스효자점',\n",
       " '홈플러스수성점',\n",
       " '홈플러스감만점',\n",
       " '홈플러스연산점',\n",
       " '홈플러스반여점',\n",
       " '홈플러스정관점',\n",
       " '홈플러스남현점',\n",
       " '홈플러스오리점',\n",
       " '홈플러스고잔점',\n",
       " '홈플러스동탄점',\n",
       " '홈플러스연수점',\n",
       " '홈플러스하남점',\n",
       " '홈플러스풍덕점',\n",
       " '홈플러스완산점',\n",
       " '홈플러스신방점',\n",
       " '홈플러스성안점',\n",
       " '홈플러스IC점',\n",
       " '홈플러스중동점']"
      ]
     },
     "execution_count": 25,
     "metadata": {},
     "output_type": "execute_result"
    }
   ],
   "source": [
    "a"
   ]
  },
  {
   "cell_type": "code",
   "execution_count": 26,
   "metadata": {},
   "outputs": [
    {
     "name": "stdout",
     "output_type": "stream",
     "text": [
      "홈플러스논현점 2\n",
      "홈플러스청라점 18\n",
      "홈플러스풍무점 146\n",
      "홈플러스소사점 3\n",
      "홈플러스여월점 10\n",
      "홈플러스상동점 227\n",
      "홈플러스선부점 3\n",
      "홈플러스문산점 1\n",
      "홈플러스운정점 44\n",
      "홈플러스안중점 5\n",
      "홈플러스송우점 0\n",
      "홈플러스향남점 77\n",
      "홈플러스가오점 25\n",
      "홈플러스둔산점 23\n",
      "홈플러스탄방점 27\n",
      "홈플러스효자점 13\n",
      "홈플러스수성점 27\n",
      "홈플러스감만점 4\n",
      "홈플러스연산점 60\n",
      "홈플러스반여점 6\n",
      "홈플러스정관점 6\n",
      "홈플러스남현점 30\n",
      "홈플러스오리점 4\n",
      "홈플러스고잔점 22\n",
      "홈플러스동탄점 6\n",
      "홈플러스연수점 16\n",
      "홈플러스하남점 19\n",
      "홈플러스풍덕점 5\n",
      "홈플러스완산점 13\n",
      "홈플러스신방점 6\n",
      "홈플러스성안점 15\n",
      "홈플러스IC점 0\n",
      "홈플러스중동점 36\n"
     ]
    }
   ],
   "source": [
    "count = []\n",
    "for i in a:\n",
    "    try:\n",
    "        plus_url = urllib.parse.quote_plus('\"{}\"'.format(i))\n",
    "        url = \"https://search.naver.com/search.naver?where=post&query={}&st=sim&sm=tab_opt&date_from=20030520&date_to=20200708&date_option=7&srchby=all&dup_remove=1&post_blogurl=&post_blogurl_without=&nso=so%3Ar%2Ca%3Aall%2Cp%3A1y\".format(plus_url)\n",
    "\n",
    "        res = req.urlopen(url).read()\n",
    "        soup = BeautifulSoup(res, 'html.parser')\n",
    "        title = soup.find(class_=\"title_num\")\n",
    "        \n",
    "        count.append(title.text.split(\"/\")[1].strip()[:-1])\n",
    "        print(i,count[-1])\n",
    "    except:\n",
    "        count.append(0)\n",
    "        print(i,count[-1])"
   ]
  },
  {
   "cell_type": "code",
   "execution_count": 27,
   "metadata": {},
   "outputs": [
    {
     "data": {
      "text/html": [
       "<div>\n",
       "<style scoped>\n",
       "    .dataframe tbody tr th:only-of-type {\n",
       "        vertical-align: middle;\n",
       "    }\n",
       "\n",
       "    .dataframe tbody tr th {\n",
       "        vertical-align: top;\n",
       "    }\n",
       "\n",
       "    .dataframe thead th {\n",
       "        text-align: right;\n",
       "    }\n",
       "</style>\n",
       "<table border=\"1\" class=\"dataframe\">\n",
       "  <thead>\n",
       "    <tr style=\"text-align: right;\">\n",
       "      <th></th>\n",
       "      <th>지점명</th>\n",
       "    </tr>\n",
       "  </thead>\n",
       "  <tbody>\n",
       "    <tr>\n",
       "      <th>0</th>\n",
       "      <td>강동점</td>\n",
       "    </tr>\n",
       "    <tr>\n",
       "      <th>1</th>\n",
       "      <td>강서점</td>\n",
       "    </tr>\n",
       "    <tr>\n",
       "      <th>2</th>\n",
       "      <td>신도림점</td>\n",
       "    </tr>\n",
       "    <tr>\n",
       "      <th>3</th>\n",
       "      <td>금천점</td>\n",
       "    </tr>\n",
       "    <tr>\n",
       "      <th>4</th>\n",
       "      <td>중계점</td>\n",
       "    </tr>\n",
       "    <tr>\n",
       "      <th>...</th>\n",
       "      <td>...</td>\n",
       "    </tr>\n",
       "    <tr>\n",
       "      <th>138</th>\n",
       "      <td>청주성안점</td>\n",
       "    </tr>\n",
       "    <tr>\n",
       "      <th>139</th>\n",
       "      <td>칠곡IC점</td>\n",
       "    </tr>\n",
       "    <tr>\n",
       "      <th>140</th>\n",
       "      <td>상주점</td>\n",
       "    </tr>\n",
       "    <tr>\n",
       "      <th>141</th>\n",
       "      <td>부천중동점</td>\n",
       "    </tr>\n",
       "    <tr>\n",
       "      <th>142</th>\n",
       "      <td>동김해점</td>\n",
       "    </tr>\n",
       "  </tbody>\n",
       "</table>\n",
       "<p>143 rows × 1 columns</p>\n",
       "</div>"
      ],
      "text/plain": [
       "       지점명\n",
       "0      강동점\n",
       "1      강서점\n",
       "2     신도림점\n",
       "3      금천점\n",
       "4      중계점\n",
       "..     ...\n",
       "138  청주성안점\n",
       "139  칠곡IC점\n",
       "140    상주점\n",
       "141  부천중동점\n",
       "142   동김해점\n",
       "\n",
       "[143 rows x 1 columns]"
      ]
     },
     "execution_count": 27,
     "metadata": {},
     "output_type": "execute_result"
    }
   ],
   "source": [
    "hp = pd.read_excel(\"../../../../Downloads/홈플.xlsx\",usecols=\"A,F\")\n",
    "hp"
   ]
  },
  {
   "cell_type": "code",
   "execution_count": 32,
   "metadata": {},
   "outputs": [],
   "source": [
    "a = [\"홈플러스스페셜\"+i for i in hp.iloc[119:139,0]]"
   ]
  },
  {
   "cell_type": "code",
   "execution_count": 33,
   "metadata": {},
   "outputs": [
    {
     "data": {
      "text/plain": [
       "['홈플러스스페셜가양점',\n",
       " '홈플러스스페셜동대문점',\n",
       " '홈플러스스페셜목동점',\n",
       " '홈플러스스페셜서울남현점',\n",
       " '홈플러스스페셜시흥점',\n",
       " '홈플러스스페셜분당오리점',\n",
       " '홈플러스스페셜시화점',\n",
       " '홈플러스스페셜안산고잔점',\n",
       " '홈플러스스페셜화성동탄점',\n",
       " '홈플러스스페셜인천연수점',\n",
       " '홈플러스스페셜광주하남점',\n",
       " '홈플러스스페셜대구점',\n",
       " '홈플러스스페셜상인점',\n",
       " '홈플러스스페셜동대전점',\n",
       " '홈플러스스페셜서부산점',\n",
       " '홈플러스스페셜해운대점',\n",
       " '홈플러스스페셜순천풍덕점',\n",
       " '홈플러스스페셜전주완산점',\n",
       " '홈플러스스페셜천안신방점',\n",
       " '홈플러스스페셜청주성안점']"
      ]
     },
     "execution_count": 33,
     "metadata": {},
     "output_type": "execute_result"
    }
   ],
   "source": [
    "a"
   ]
  },
  {
   "cell_type": "code",
   "execution_count": 34,
   "metadata": {},
   "outputs": [
    {
     "name": "stdout",
     "output_type": "stream",
     "text": [
      "홈플러스스페셜가양점 0\n",
      "홈플러스스페셜동대문점 3\n",
      "홈플러스스페셜목동점 0\n",
      "홈플러스스페셜서울남현점 5\n",
      "홈플러스스페셜시흥점 0\n",
      "홈플러스스페셜분당오리점 9\n",
      "홈플러스스페셜시화점 0\n",
      "홈플러스스페셜안산고잔점 6\n",
      "홈플러스스페셜화성동탄점 12\n",
      "홈플러스스페셜인천연수점 1\n",
      "홈플러스스페셜광주하남점 2\n",
      "홈플러스스페셜대구점 2\n",
      "홈플러스스페셜상인점 1\n",
      "홈플러스스페셜동대전점 6\n",
      "홈플러스스페셜서부산점 19\n",
      "홈플러스스페셜해운대점 12\n",
      "홈플러스스페셜순천풍덕점 4\n",
      "홈플러스스페셜전주완산점 3\n",
      "홈플러스스페셜천안신방점 1\n",
      "홈플러스스페셜청주성안점 2\n"
     ]
    }
   ],
   "source": [
    "count = []\n",
    "for i in a:\n",
    "    try:\n",
    "        plus_url = urllib.parse.quote_plus('\"{}\"'.format(i))\n",
    "        url = \"https://search.naver.com/search.naver?where=post&query={}&st=sim&sm=tab_opt&date_from=20030520&date_to=20200708&date_option=7&srchby=all&dup_remove=1&post_blogurl=&post_blogurl_without=&nso=so%3Ar%2Ca%3Aall%2Cp%3A1y\".format(plus_url)\n",
    "\n",
    "        res = req.urlopen(url).read()\n",
    "        soup = BeautifulSoup(res, 'html.parser')\n",
    "        title = soup.find(class_=\"title_num\")\n",
    "        \n",
    "        count.append(title.text.split(\"/\")[1].strip()[:-1])\n",
    "        print(i,count[-1])\n",
    "    except:\n",
    "        count.append(0)\n",
    "        print(i,count[-1])"
   ]
  },
  {
   "cell_type": "code",
   "execution_count": 40,
   "metadata": {},
   "outputs": [],
   "source": [
    "a = [\"홈플러스스페셜\"+i[2:] for i in hp.iloc[119:139,0] if len(i) >= 5]"
   ]
  },
  {
   "cell_type": "code",
   "execution_count": 41,
   "metadata": {},
   "outputs": [
    {
     "data": {
      "text/plain": [
       "['홈플러스스페셜남현점',\n",
       " '홈플러스스페셜오리점',\n",
       " '홈플러스스페셜고잔점',\n",
       " '홈플러스스페셜동탄점',\n",
       " '홈플러스스페셜연수점',\n",
       " '홈플러스스페셜하남점',\n",
       " '홈플러스스페셜풍덕점',\n",
       " '홈플러스스페셜완산점',\n",
       " '홈플러스스페셜신방점',\n",
       " '홈플러스스페셜성안점']"
      ]
     },
     "execution_count": 41,
     "metadata": {},
     "output_type": "execute_result"
    }
   ],
   "source": [
    "a"
   ]
  },
  {
   "cell_type": "code",
   "execution_count": 42,
   "metadata": {},
   "outputs": [
    {
     "name": "stdout",
     "output_type": "stream",
     "text": [
      "홈플러스스페셜남현점 3\n",
      "홈플러스스페셜오리점 0\n",
      "홈플러스스페셜고잔점 0\n",
      "홈플러스스페셜동탄점 1\n",
      "홈플러스스페셜연수점 0\n",
      "홈플러스스페셜하남점 0\n",
      "홈플러스스페셜풍덕점 0\n",
      "홈플러스스페셜완산점 0\n",
      "홈플러스스페셜신방점 0\n",
      "홈플러스스페셜성안점 0\n"
     ]
    }
   ],
   "source": [
    "count = []\n",
    "for i in a:\n",
    "    try:\n",
    "        plus_url = urllib.parse.quote_plus('\"{}\"'.format(i))\n",
    "        url = \"https://search.naver.com/search.naver?where=post&query={}&st=sim&sm=tab_opt&date_from=20030520&date_to=20200708&date_option=7&srchby=all&dup_remove=1&post_blogurl=&post_blogurl_without=&nso=so%3Ar%2Ca%3Aall%2Cp%3A1y\".format(plus_url)\n",
    "\n",
    "        res = req.urlopen(url).read()\n",
    "        soup = BeautifulSoup(res, 'html.parser')\n",
    "        title = soup.find(class_=\"title_num\")\n",
    "        \n",
    "        count.append(title.text.split(\"/\")[1].strip()[:-1])\n",
    "        print(i,count[-1])\n",
    "    except:\n",
    "        count.append(0)\n",
    "        print(i,count[-1])"
   ]
  },
  {
   "cell_type": "code",
   "execution_count": null,
   "metadata": {},
   "outputs": [],
   "source": []
  }
 ],
 "metadata": {
  "kernelspec": {
   "display_name": "Python 3",
   "language": "python",
   "name": "python3"
  },
  "language_info": {
   "codemirror_mode": {
    "name": "ipython",
    "version": 3
   },
   "file_extension": ".py",
   "mimetype": "text/x-python",
   "name": "python",
   "nbconvert_exporter": "python",
   "pygments_lexer": "ipython3",
   "version": "3.7.6"
  }
 },
 "nbformat": 4,
 "nbformat_minor": 4
}
